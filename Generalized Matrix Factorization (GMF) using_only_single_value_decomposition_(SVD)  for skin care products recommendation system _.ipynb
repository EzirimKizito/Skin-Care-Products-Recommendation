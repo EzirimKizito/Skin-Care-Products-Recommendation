{
  "nbformat": 4,
  "nbformat_minor": 0,
  "metadata": {
    "colab": {
      "provenance": []
    },
    "kernelspec": {
      "name": "python3",
      "display_name": "Python 3"
    },
    "language_info": {
      "name": "python"
    }
  },
  "cells": [
    {
      "cell_type": "code",
      "source": [
        "import numpy as np\n",
        "import pandas as pd\n",
        "import seaborn as sns\n",
        "import os\n",
        "\n",
        "from numpy import set_printoptions\n",
        "from scipy.stats import skew\n",
        "import matplotlib.pyplot as plt\n",
        "plt.style.use('seaborn-whitegrid')\n",
        "from sklearn.preprocessing import LabelEncoder,OneHotEncoder\n",
        "from sklearn.preprocessing import StandardScaler\n",
        "from sklearn.preprocessing import Normalizer\n",
        "from sklearn.preprocessing import MinMaxScaler\n",
        "from sklearn.feature_selection import mutual_info_classif\n",
        "\n",
        "from sklearn.model_selection import train_test_split\n",
        "from sklearn.linear_model import LogisticRegression\n",
        "from sklearn.preprocessing import PolynomialFeatures\n",
        "from sklearn.metrics import classification_report,confusion_matrix\n",
        "\n",
        "import keras\n",
        "#from keras.optimizers import SGD\n",
        "from sklearn.linear_model import SGDClassifier\n",
        "from sklearn.model_selection import cross_val_predict\n",
        "from sklearn.model_selection import LeaveOneOut\n",
        "\n",
        "from sklearn.ensemble import RandomForestClassifier\n",
        "from sklearn.model_selection import cross_val_score\n",
        "from sklearn.model_selection import cross_val_predict\n",
        "from sklearn.model_selection import KFold\n",
        "\n",
        "from sklearn.pipeline import Pipeline\n",
        "from sklearn.svm import SVC\n",
        "from sklearn.model_selection import GridSearchCV\n",
        "from scipy.stats import reciprocal\n",
        "from sklearn.model_selection import RandomizedSearchCV\n",
        "from sklearn import metrics\n",
        "from sklearn.metrics import make_scorer\n",
        "from sklearn.metrics import accuracy_score, precision_score, recall_score\n",
        "\n",
        "\n",
        "from sklearn.ensemble import GradientBoostingClassifier\n",
        "from sklearn.ensemble import AdaBoostClassifier\n",
        "from sklearn.ensemble import VotingClassifier\n",
        "from sklearn.metrics import accuracy_score\n",
        "\n",
        "import xgboost\n",
        "import lightgbm as lgb\n",
        "from sklearn.metrics import roc_auc_score\n",
        "\n",
        "\n",
        "import tensorflow as tf\n",
        "from tensorflow import keras\n",
        "from keras.models import Sequential\n",
        "from keras.layers import Dropout, Activation, Dense, BatchNormalization\n",
        "#from keras.optimizers import RMSprop\n",
        "\n",
        "import warnings\n",
        "warnings.filterwarnings(\"ignore\")"
      ],
      "metadata": {
        "id": "OcpE22Bpuo8K",
        "colab": {
          "base_uri": "https://localhost:8080/"
        },
        "outputId": "b528da80-565c-45e3-9618-0163c28b3744"
      },
      "execution_count": null,
      "outputs": [
        {
          "output_type": "stream",
          "name": "stderr",
          "text": [
            "<ipython-input-2-46aa72f88981>:9: MatplotlibDeprecationWarning: The seaborn styles shipped by Matplotlib are deprecated since 3.6, as they no longer correspond to the styles shipped by seaborn. However, they will remain available as 'seaborn-v0_8-<style>'. Alternatively, directly use the seaborn API instead.\n",
            "  plt.style.use('seaborn-whitegrid')\n"
          ]
        }
      ]
    },
    {
      "cell_type": "code",
      "execution_count": null,
      "metadata": {
        "id": "z61uMAHrclXs",
        "colab": {
          "base_uri": "https://localhost:8080/"
        },
        "outputId": "822fa2f4-8141-466e-ec0a-52d05d1f76cf"
      },
      "outputs": [
        {
          "output_type": "stream",
          "name": "stdout",
          "text": [
            "Drive already mounted at /content/drive; to attempt to forcibly remount, call drive.mount(\"/content/drive\", force_remount=True).\n"
          ]
        }
      ],
      "source": [
        "import os\n",
        "from google.colab import drive\n",
        "import zipfile\n",
        "\n",
        "# This mounts your Google Drive to the Colab VM.\n",
        "drive.mount('/content/drive')\n",
        "\n",
        "# # Path to the kaggle.json file on your Google Drive\n",
        "# kaggle_json_path = \"/content/drive/MyDrive/Kaggle_Json/kaggle.json\"\n",
        "\n",
        "# # Check if the kaggle.json file exists in the folder\n",
        "# if not os.path.isfile(kaggle_json_path):\n",
        "#     print(f\"Please upload the kaggle.json file to the folder: {kaggle_json_path}\")\n",
        "# else:\n",
        "#     # Copy the kaggle.json file to the correct location and set permissions\n",
        "#     os.makedirs('/root/.kaggle/', exist_ok=True)\n",
        "#     os.system(f\"cp {kaggle_json_path} /root/.kaggle/\")\n",
        "#     os.chmod(\"/root/.kaggle/kaggle.json\", 600)\n",
        "#     print(\"kaggle.json file uploaded successfully.\")\n",
        "\n",
        "#     # Kaggle dataset URL segment (this is usually the path that comes after kaggle.com/datasets/)\n",
        "#     dataset_url = \"nadyinky/sephora-products-and-skincare-reviews/versions/1\"\n",
        "\n",
        "#     # Make sure you have the Kaggle API installed\n",
        "#     !pip install kaggle --quiet\n",
        "\n",
        "#     # Download dataset and save it to your Google Drive\n",
        "#     #os.makedirs(\"/content/drive/MyDrive/Skincare Recommendation Dataset\", exist_ok=True)\n",
        "#     os.system(f\"kaggle datasets download -d {dataset_url} --path '/content/drive/MyDrive/Skincare Recommendation Dataset 2' --unzip\")\n",
        "\n",
        "#     print(\"Dataset downloaded and extracted to your Google Drive folder.\")\n"
      ]
    },
    {
      "cell_type": "code",
      "source": [
        "# from google.colab import drive\n",
        "# import zipfile\n",
        "# import os\n",
        "\n",
        "# def extract_zip_from_drive(zip_path):\n",
        "#     \"\"\"\n",
        "#     Extracts a zip file from the specified path on Google Drive.\n",
        "\n",
        "#     Parameters:\n",
        "#     zip_path (str): The path to the zip file on Google Drive.\n",
        "\n",
        "#     Returns:\n",
        "#     None\n",
        "#     \"\"\"\n",
        "#     # Mount Google Drive\n",
        "#     #drive.mount('/content/drive')\n",
        "\n",
        "#     # Ensure the zip file exists\n",
        "#     if not os.path.exists(zip_path):\n",
        "#         print(f\"The zip file {zip_path} does not exist.\")\n",
        "#         return\n",
        "\n",
        "#     # Define the folder to extract to (same as zip file location)\n",
        "#     extract_folder = os.path.dirname(zip_path)\n",
        "\n",
        "#     # Extract the zip file\n",
        "#     with zipfile.ZipFile(zip_path, 'r') as zip_ref:\n",
        "#         zip_ref.extractall(extract_folder)\n",
        "#         print(f\"Extracted all files in {zip_path} to {extract_folder}\")\n",
        "\n",
        "# # Example usage\n",
        "# zip_path = \"/content/drive/MyDrive/Skincare Recommendation Dataset 2/Sephora Products and Skincare Reviews.zip\"\n",
        "# extract_zip_from_drive(zip_path)\n"
      ],
      "metadata": {
        "id": "MUPqvQWeo80I"
      },
      "execution_count": null,
      "outputs": []
    },
    {
      "cell_type": "code",
      "source": [
        "import pandas as pd\n",
        "\n",
        "def load_dataset(file_path):\n",
        "    try:\n",
        "        # Read the file into a Pandas DataFrame\n",
        "        df = pd.read_csv(file_path, index_col = 0, dtype={'author_id':'str'})\n",
        "        return df\n",
        "    except Exception as e:\n",
        "        print(f\"Error loading dataset: {e}\")\n",
        "        return None\n",
        "\n",
        "\n",
        "dataset_paths = [\n",
        "    \"/content/drive/MyDrive/Skincare Recommendation Dataset 2/product_info.csv\",\n",
        "    \"/content/drive/MyDrive/Skincare Recommendation Dataset 2/reviews_0_250.csv\",\n",
        "    \"/content/drive/MyDrive/Skincare Recommendation Dataset 2/reviews_250_500.csv\",\n",
        "    \"/content/drive/MyDrive/Skincare Recommendation Dataset 2/reviews_500_750.csv\",\n",
        "    \"/content/drive/MyDrive/Skincare Recommendation Dataset 2/reviews_750_1000.csv\",\n",
        "    \"/content/drive/MyDrive/Skincare Recommendation Dataset 2/reviews_1000_1500.csv\",\n",
        "    \"/content/drive/MyDrive/Skincare Recommendation Dataset 2/reviews_1500_end.csv\"\n",
        "]\n",
        "\n",
        "# Load each dataset into separate variables\n",
        "product_info_df = load_dataset(dataset_paths[0])\n",
        "reviews_0_250 = load_dataset(dataset_paths[1])\n",
        "reviews_250_500 = load_dataset(dataset_paths[2])\n",
        "reviews_500_750 = load_dataset(dataset_paths[3])\n",
        "reviews_750_1000 = load_dataset(dataset_paths[4])\n",
        "reviews_1000_1500 = load_dataset(dataset_paths[5])\n",
        "reviews_1500_end = load_dataset(dataset_paths[6])\n",
        "\n",
        "# Concatenate the reviews datasets\n",
        "reviews_combined_df = pd.concat([reviews_0_250, reviews_250_500, reviews_500_750, reviews_750_1000, reviews_1000_1500, reviews_1500_end], ignore_index=True)"
      ],
      "metadata": {
        "id": "lowdhCHnLbzl"
      },
      "execution_count": null,
      "outputs": []
    },
    {
      "cell_type": "code",
      "source": [
        "reviews_combined_df.info()"
      ],
      "metadata": {
        "colab": {
          "base_uri": "https://localhost:8080/"
        },
        "id": "0nMFI2lzq-oT",
        "outputId": "cbcc433b-f0f2-4dc1-a01c-a20af90c2033"
      },
      "execution_count": null,
      "outputs": [
        {
          "output_type": "stream",
          "name": "stdout",
          "text": [
            "<class 'pandas.core.frame.DataFrame'>\n",
            "RangeIndex: 1301136 entries, 0 to 1301135\n",
            "Data columns (total 18 columns):\n",
            " #   Column                    Non-Null Count    Dtype  \n",
            "---  ------                    --------------    -----  \n",
            " 0   author_id                 1301136 non-null  object \n",
            " 1   rating                    1301136 non-null  int64  \n",
            " 2   is_recommended            1107162 non-null  float64\n",
            " 3   helpfulness               631670 non-null   float64\n",
            " 4   total_feedback_count      1301136 non-null  int64  \n",
            " 5   total_neg_feedback_count  1301136 non-null  int64  \n",
            " 6   total_pos_feedback_count  1301136 non-null  int64  \n",
            " 7   submission_time           1301136 non-null  object \n",
            " 8   review_text               1299520 non-null  object \n",
            " 9   review_title              930754 non-null   object \n",
            " 10  skin_tone                 1103798 non-null  object \n",
            " 11  eye_color                 1057734 non-null  object \n",
            " 12  skin_type                 1172830 non-null  object \n",
            " 13  hair_color                1037824 non-null  object \n",
            " 14  product_id                1301136 non-null  object \n",
            " 15  product_name              1301136 non-null  object \n",
            " 16  brand_name                1301136 non-null  object \n",
            " 17  price_usd                 1301136 non-null  float64\n",
            "dtypes: float64(3), int64(4), object(11)\n",
            "memory usage: 178.7+ MB\n"
          ]
        }
      ]
    },
    {
      "cell_type": "code",
      "source": [
        "product_info_df.info()"
      ],
      "metadata": {
        "colab": {
          "base_uri": "https://localhost:8080/"
        },
        "id": "agVEWLFi03nc",
        "outputId": "7fd64f6c-e8a1-4e11-ddb6-1766334db0bc"
      },
      "execution_count": null,
      "outputs": [
        {
          "output_type": "stream",
          "name": "stdout",
          "text": [
            "<class 'pandas.core.frame.DataFrame'>\n",
            "Index: 8494 entries, P473671 to P505461\n",
            "Data columns (total 26 columns):\n",
            " #   Column              Non-Null Count  Dtype  \n",
            "---  ------              --------------  -----  \n",
            " 0   product_name        8494 non-null   object \n",
            " 1   brand_id            8494 non-null   int64  \n",
            " 2   brand_name          8494 non-null   object \n",
            " 3   loves_count         8494 non-null   int64  \n",
            " 4   rating              8216 non-null   float64\n",
            " 5   reviews             8216 non-null   float64\n",
            " 6   size                6863 non-null   object \n",
            " 7   variation_type      7050 non-null   object \n",
            " 8   variation_value     6896 non-null   object \n",
            " 9   variation_desc      1250 non-null   object \n",
            " 10  ingredients         7549 non-null   object \n",
            " 11  price_usd           8494 non-null   float64\n",
            " 12  value_price_usd     451 non-null    float64\n",
            " 13  sale_price_usd      270 non-null    float64\n",
            " 14  limited_edition     8494 non-null   int64  \n",
            " 15  new                 8494 non-null   int64  \n",
            " 16  online_only         8494 non-null   int64  \n",
            " 17  out_of_stock        8494 non-null   int64  \n",
            " 18  sephora_exclusive   8494 non-null   int64  \n",
            " 19  highlights          6287 non-null   object \n",
            " 20  primary_category    8494 non-null   object \n",
            " 21  secondary_category  8486 non-null   object \n",
            " 22  tertiary_category   7504 non-null   object \n",
            " 23  child_count         8494 non-null   int64  \n",
            " 24  child_max_price     2754 non-null   float64\n",
            " 25  child_min_price     2754 non-null   float64\n",
            "dtypes: float64(7), int64(8), object(11)\n",
            "memory usage: 1.7+ MB\n"
          ]
        }
      ]
    },
    {
      "cell_type": "code",
      "source": [
        "product_info_df.shape"
      ],
      "metadata": {
        "colab": {
          "base_uri": "https://localhost:8080/"
        },
        "id": "fHxho6gd2Efe",
        "outputId": "a4512d89-3f6a-493d-edbc-7a6d969c9af3"
      },
      "execution_count": null,
      "outputs": [
        {
          "output_type": "execute_result",
          "data": {
            "text/plain": [
              "(8494, 26)"
            ]
          },
          "metadata": {},
          "execution_count": 12
        }
      ]
    },
    {
      "cell_type": "code",
      "source": [
        "reviews_combined_df.shape"
      ],
      "metadata": {
        "colab": {
          "base_uri": "https://localhost:8080/"
        },
        "id": "Sp8x36Lsk0Bn",
        "outputId": "70a5a082-b0e1-4b11-fdb4-f17ed8539663"
      },
      "execution_count": null,
      "outputs": [
        {
          "output_type": "execute_result",
          "data": {
            "text/plain": [
              "(1301136, 18)"
            ]
          },
          "metadata": {},
          "execution_count": 8
        }
      ]
    },
    {
      "cell_type": "code",
      "source": [
        "product_info_df.columns"
      ],
      "metadata": {
        "colab": {
          "base_uri": "https://localhost:8080/"
        },
        "id": "yyo_h60k2Ek2",
        "outputId": "9a0361f0-d87b-4833-c32c-8c25caea9912"
      },
      "execution_count": null,
      "outputs": [
        {
          "output_type": "execute_result",
          "data": {
            "text/plain": [
              "Index(['product_name', 'brand_id', 'brand_name', 'loves_count', 'rating',\n",
              "       'reviews', 'size', 'variation_type', 'variation_value',\n",
              "       'variation_desc', 'ingredients', 'price_usd', 'value_price_usd',\n",
              "       'sale_price_usd', 'limited_edition', 'new', 'online_only',\n",
              "       'out_of_stock', 'sephora_exclusive', 'highlights', 'primary_category',\n",
              "       'secondary_category', 'tertiary_category', 'child_count',\n",
              "       'child_max_price', 'child_min_price'],\n",
              "      dtype='object')"
            ]
          },
          "metadata": {},
          "execution_count": 9
        }
      ]
    },
    {
      "cell_type": "code",
      "source": [
        "product_info_df.columns"
      ],
      "metadata": {
        "colab": {
          "base_uri": "https://localhost:8080/"
        },
        "id": "ALwLb0ybk46f",
        "outputId": "59b33e01-1773-4f3f-b8df-b816df51325f"
      },
      "execution_count": null,
      "outputs": [
        {
          "output_type": "execute_result",
          "data": {
            "text/plain": [
              "Index(['product_name', 'brand_id', 'brand_name', 'loves_count', 'rating',\n",
              "       'reviews', 'size', 'variation_type', 'variation_value',\n",
              "       'variation_desc', 'ingredients', 'price_usd', 'value_price_usd',\n",
              "       'sale_price_usd', 'limited_edition', 'new', 'online_only',\n",
              "       'out_of_stock', 'sephora_exclusive', 'highlights', 'primary_category',\n",
              "       'secondary_category', 'tertiary_category', 'child_count',\n",
              "       'child_max_price', 'child_min_price'],\n",
              "      dtype='object')"
            ]
          },
          "metadata": {},
          "execution_count": 11
        }
      ]
    },
    {
      "cell_type": "code",
      "source": [
        "product_info_df['primary_category'].value_counts()"
      ],
      "metadata": {
        "colab": {
          "base_uri": "https://localhost:8080/"
        },
        "id": "kw5aWIzklHFF",
        "outputId": "84793c3e-4069-4c85-cb01-37c8a8b575ae"
      },
      "execution_count": null,
      "outputs": [
        {
          "output_type": "execute_result",
          "data": {
            "text/plain": [
              "primary_category\n",
              "Skincare           2420\n",
              "Makeup             2369\n",
              "Hair               1464\n",
              "Fragrance          1432\n",
              "Bath & Body         405\n",
              "Mini Size           288\n",
              "Men                  60\n",
              "Tools & Brushes      52\n",
              "Gifts                 4\n",
              "Name: count, dtype: int64"
            ]
          },
          "metadata": {},
          "execution_count": 16
        }
      ]
    },
    {
      "cell_type": "code",
      "source": [
        "product_skincare = product_info_df[product_info_df['primary_category'] == 'Skincare']"
      ],
      "metadata": {
        "id": "g2qXfrbO4RCn"
      },
      "execution_count": null,
      "outputs": []
    },
    {
      "cell_type": "code",
      "source": [
        "product_skincare.shape"
      ],
      "metadata": {
        "colab": {
          "base_uri": "https://localhost:8080/"
        },
        "id": "o8h_19wk4RFa",
        "outputId": "67b6f2c7-67fc-4669-d04b-969e614633db"
      },
      "execution_count": null,
      "outputs": [
        {
          "output_type": "execute_result",
          "data": {
            "text/plain": [
              "(2420, 26)"
            ]
          },
          "metadata": {},
          "execution_count": 18
        }
      ]
    },
    {
      "cell_type": "code",
      "source": [
        "product_skincare['secondary_category'].value_counts()"
      ],
      "metadata": {
        "colab": {
          "base_uri": "https://localhost:8080/"
        },
        "id": "VT8TOOsa4_ac",
        "outputId": "07f0cf55-7f52-42c6-aed2-a4cbac76b364"
      },
      "execution_count": null,
      "outputs": [
        {
          "output_type": "execute_result",
          "data": {
            "text/plain": [
              "secondary_category\n",
              "Moisturizers              551\n",
              "Treatments                466\n",
              "Cleansers                 361\n",
              "Value & Gift Sets         196\n",
              "Eye Care                  186\n",
              "Masks                     166\n",
              "Mini Size                 112\n",
              "Sunscreen                 108\n",
              "High Tech Tools            80\n",
              "Wellness                   79\n",
              "Lip Balms & Treatments     61\n",
              "Self Tanners               53\n",
              "Shop by Concern             1\n",
              "Name: count, dtype: int64"
            ]
          },
          "metadata": {},
          "execution_count": 19
        }
      ]
    },
    {
      "cell_type": "code",
      "source": [
        "reviews_combined_df['product_name'].value_counts()"
      ],
      "metadata": {
        "colab": {
          "base_uri": "https://localhost:8080/"
        },
        "id": "6Ckq6P2A5j-X",
        "outputId": "7158faba-7b2b-44ba-8a1f-4f9f71022468"
      },
      "execution_count": null,
      "outputs": [
        {
          "output_type": "execute_result",
          "data": {
            "text/plain": [
              "product_name\n",
              "Lip Sleeping Mask Intense Hydration with Vitamin C        16138\n",
              "Soy Hydrating Gentle Face Cleanser                         8736\n",
              "100 percent Pure Argan Oil                                 7763\n",
              "Ultra Repair Cream Intense Hydration                       7547\n",
              "Alpha Beta Extra Strength Daily Peel Pads                  7414\n",
              "                                                          ...  \n",
              "Major Eye Impact Repair + Brighten Skincare Set               1\n",
              "Clarifying Peel Pads Purify + Exfoliate                       1\n",
              "Smooth + FAB Travel Size Duo                                  1\n",
              "The Glow Around 4-Piece Travel Skincare Essentials Set        1\n",
              "Gentle Hydra-Gel Face Cleanser                                1\n",
              "Name: count, Length: 2334, dtype: int64"
            ]
          },
          "metadata": {},
          "execution_count": 21
        }
      ]
    },
    {
      "cell_type": "code",
      "source": [
        "import pandas as pd\n",
        "\n",
        "# Assume reviews_combined_df is already defined\n",
        "\n",
        "# Calculate the count of each product_name\n",
        "product_counts = reviews_combined_df['product_name'].value_counts()\n",
        "\n",
        "# Find products with counts greater than 500\n",
        "popular_products = product_counts[product_counts > 500].index\n",
        "\n",
        "# Filter the DataFrame to only include rows with these popular products\n",
        "reviews_filtered_df = reviews_combined_df[reviews_combined_df['product_name'].isin(popular_products)]\n",
        "\n",
        "# Show the filtered DataFrame\n",
        "reviews_filtered_df.head(5)\n"
      ],
      "metadata": {
        "colab": {
          "base_uri": "https://localhost:8080/",
          "height": 504
        },
        "id": "ixkdtFlm5kBO",
        "outputId": "a0c299a5-0102-4187-f1b5-5c0e2f72aac8"
      },
      "execution_count": null,
      "outputs": [
        {
          "output_type": "execute_result",
          "data": {
            "text/plain": [
              "     author_id  rating  is_recommended  helpfulness  total_feedback_count  \\\n",
              "1  31423088263       1             0.0          NaN                     0   \n",
              "2   5061282401       5             1.0          NaN                     0   \n",
              "3   6083038851       5             1.0          NaN                     0   \n",
              "4  47056667835       5             1.0          NaN                     0   \n",
              "5  42802569154       4             1.0          1.0                     1   \n",
              "\n",
              "   total_neg_feedback_count  total_pos_feedback_count submission_time  \\\n",
              "1                         0                         0      2023-03-21   \n",
              "2                         0                         0      2023-03-21   \n",
              "3                         0                         0      2023-03-20   \n",
              "4                         0                         0      2023-03-20   \n",
              "5                         0                         1      2023-03-19   \n",
              "\n",
              "                                         review_text  \\\n",
              "1  I bought this lip mask after reading the revie...   \n",
              "2  My review title says it all! I get so excited ...   \n",
              "3  I’ve always loved this formula for a long time...   \n",
              "4  If you have dry cracked lips, this is a must h...   \n",
              "5  The scent isn’t my favourite but it works grea...   \n",
              "\n",
              "                      review_title    skin_tone eye_color    skin_type  \\\n",
              "1                     Disappointed          NaN       NaN          NaN   \n",
              "2             New Favorite Routine        light     brown          dry   \n",
              "3  Can't go wrong with any of them          NaN     brown  combination   \n",
              "4                  A must have !!!        light     hazel  combination   \n",
              "5                           Great!  lightMedium     brown       normal   \n",
              "\n",
              "  hair_color product_id                                       product_name  \\\n",
              "1        NaN    P420652  Lip Sleeping Mask Intense Hydration with Vitam...   \n",
              "2     blonde    P420652  Lip Sleeping Mask Intense Hydration with Vitam...   \n",
              "3      black    P420652  Lip Sleeping Mask Intense Hydration with Vitam...   \n",
              "4        NaN    P420652  Lip Sleeping Mask Intense Hydration with Vitam...   \n",
              "5      brown    P420652  Lip Sleeping Mask Intense Hydration with Vitam...   \n",
              "\n",
              "  brand_name  price_usd  \n",
              "1    LANEIGE       24.0  \n",
              "2    LANEIGE       24.0  \n",
              "3    LANEIGE       24.0  \n",
              "4    LANEIGE       24.0  \n",
              "5    LANEIGE       24.0  "
            ],
            "text/html": [
              "\n",
              "  <div id=\"df-cd42ee25-3635-45da-b905-5097e2a4a9bf\" class=\"colab-df-container\">\n",
              "    <div>\n",
              "<style scoped>\n",
              "    .dataframe tbody tr th:only-of-type {\n",
              "        vertical-align: middle;\n",
              "    }\n",
              "\n",
              "    .dataframe tbody tr th {\n",
              "        vertical-align: top;\n",
              "    }\n",
              "\n",
              "    .dataframe thead th {\n",
              "        text-align: right;\n",
              "    }\n",
              "</style>\n",
              "<table border=\"1\" class=\"dataframe\">\n",
              "  <thead>\n",
              "    <tr style=\"text-align: right;\">\n",
              "      <th></th>\n",
              "      <th>author_id</th>\n",
              "      <th>rating</th>\n",
              "      <th>is_recommended</th>\n",
              "      <th>helpfulness</th>\n",
              "      <th>total_feedback_count</th>\n",
              "      <th>total_neg_feedback_count</th>\n",
              "      <th>total_pos_feedback_count</th>\n",
              "      <th>submission_time</th>\n",
              "      <th>review_text</th>\n",
              "      <th>review_title</th>\n",
              "      <th>skin_tone</th>\n",
              "      <th>eye_color</th>\n",
              "      <th>skin_type</th>\n",
              "      <th>hair_color</th>\n",
              "      <th>product_id</th>\n",
              "      <th>product_name</th>\n",
              "      <th>brand_name</th>\n",
              "      <th>price_usd</th>\n",
              "    </tr>\n",
              "  </thead>\n",
              "  <tbody>\n",
              "    <tr>\n",
              "      <th>1</th>\n",
              "      <td>31423088263</td>\n",
              "      <td>1</td>\n",
              "      <td>0.0</td>\n",
              "      <td>NaN</td>\n",
              "      <td>0</td>\n",
              "      <td>0</td>\n",
              "      <td>0</td>\n",
              "      <td>2023-03-21</td>\n",
              "      <td>I bought this lip mask after reading the revie...</td>\n",
              "      <td>Disappointed</td>\n",
              "      <td>NaN</td>\n",
              "      <td>NaN</td>\n",
              "      <td>NaN</td>\n",
              "      <td>NaN</td>\n",
              "      <td>P420652</td>\n",
              "      <td>Lip Sleeping Mask Intense Hydration with Vitam...</td>\n",
              "      <td>LANEIGE</td>\n",
              "      <td>24.0</td>\n",
              "    </tr>\n",
              "    <tr>\n",
              "      <th>2</th>\n",
              "      <td>5061282401</td>\n",
              "      <td>5</td>\n",
              "      <td>1.0</td>\n",
              "      <td>NaN</td>\n",
              "      <td>0</td>\n",
              "      <td>0</td>\n",
              "      <td>0</td>\n",
              "      <td>2023-03-21</td>\n",
              "      <td>My review title says it all! I get so excited ...</td>\n",
              "      <td>New Favorite Routine</td>\n",
              "      <td>light</td>\n",
              "      <td>brown</td>\n",
              "      <td>dry</td>\n",
              "      <td>blonde</td>\n",
              "      <td>P420652</td>\n",
              "      <td>Lip Sleeping Mask Intense Hydration with Vitam...</td>\n",
              "      <td>LANEIGE</td>\n",
              "      <td>24.0</td>\n",
              "    </tr>\n",
              "    <tr>\n",
              "      <th>3</th>\n",
              "      <td>6083038851</td>\n",
              "      <td>5</td>\n",
              "      <td>1.0</td>\n",
              "      <td>NaN</td>\n",
              "      <td>0</td>\n",
              "      <td>0</td>\n",
              "      <td>0</td>\n",
              "      <td>2023-03-20</td>\n",
              "      <td>I’ve always loved this formula for a long time...</td>\n",
              "      <td>Can't go wrong with any of them</td>\n",
              "      <td>NaN</td>\n",
              "      <td>brown</td>\n",
              "      <td>combination</td>\n",
              "      <td>black</td>\n",
              "      <td>P420652</td>\n",
              "      <td>Lip Sleeping Mask Intense Hydration with Vitam...</td>\n",
              "      <td>LANEIGE</td>\n",
              "      <td>24.0</td>\n",
              "    </tr>\n",
              "    <tr>\n",
              "      <th>4</th>\n",
              "      <td>47056667835</td>\n",
              "      <td>5</td>\n",
              "      <td>1.0</td>\n",
              "      <td>NaN</td>\n",
              "      <td>0</td>\n",
              "      <td>0</td>\n",
              "      <td>0</td>\n",
              "      <td>2023-03-20</td>\n",
              "      <td>If you have dry cracked lips, this is a must h...</td>\n",
              "      <td>A must have !!!</td>\n",
              "      <td>light</td>\n",
              "      <td>hazel</td>\n",
              "      <td>combination</td>\n",
              "      <td>NaN</td>\n",
              "      <td>P420652</td>\n",
              "      <td>Lip Sleeping Mask Intense Hydration with Vitam...</td>\n",
              "      <td>LANEIGE</td>\n",
              "      <td>24.0</td>\n",
              "    </tr>\n",
              "    <tr>\n",
              "      <th>5</th>\n",
              "      <td>42802569154</td>\n",
              "      <td>4</td>\n",
              "      <td>1.0</td>\n",
              "      <td>1.0</td>\n",
              "      <td>1</td>\n",
              "      <td>0</td>\n",
              "      <td>1</td>\n",
              "      <td>2023-03-19</td>\n",
              "      <td>The scent isn’t my favourite but it works grea...</td>\n",
              "      <td>Great!</td>\n",
              "      <td>lightMedium</td>\n",
              "      <td>brown</td>\n",
              "      <td>normal</td>\n",
              "      <td>brown</td>\n",
              "      <td>P420652</td>\n",
              "      <td>Lip Sleeping Mask Intense Hydration with Vitam...</td>\n",
              "      <td>LANEIGE</td>\n",
              "      <td>24.0</td>\n",
              "    </tr>\n",
              "  </tbody>\n",
              "</table>\n",
              "</div>\n",
              "    <div class=\"colab-df-buttons\">\n",
              "\n",
              "  <div class=\"colab-df-container\">\n",
              "    <button class=\"colab-df-convert\" onclick=\"convertToInteractive('df-cd42ee25-3635-45da-b905-5097e2a4a9bf')\"\n",
              "            title=\"Convert this dataframe to an interactive table.\"\n",
              "            style=\"display:none;\">\n",
              "\n",
              "  <svg xmlns=\"http://www.w3.org/2000/svg\" height=\"24px\" viewBox=\"0 -960 960 960\">\n",
              "    <path d=\"M120-120v-720h720v720H120Zm60-500h600v-160H180v160Zm220 220h160v-160H400v160Zm0 220h160v-160H400v160ZM180-400h160v-160H180v160Zm440 0h160v-160H620v160ZM180-180h160v-160H180v160Zm440 0h160v-160H620v160Z\"/>\n",
              "  </svg>\n",
              "    </button>\n",
              "\n",
              "  <style>\n",
              "    .colab-df-container {\n",
              "      display:flex;\n",
              "      gap: 12px;\n",
              "    }\n",
              "\n",
              "    .colab-df-convert {\n",
              "      background-color: #E8F0FE;\n",
              "      border: none;\n",
              "      border-radius: 50%;\n",
              "      cursor: pointer;\n",
              "      display: none;\n",
              "      fill: #1967D2;\n",
              "      height: 32px;\n",
              "      padding: 0 0 0 0;\n",
              "      width: 32px;\n",
              "    }\n",
              "\n",
              "    .colab-df-convert:hover {\n",
              "      background-color: #E2EBFA;\n",
              "      box-shadow: 0px 1px 2px rgba(60, 64, 67, 0.3), 0px 1px 3px 1px rgba(60, 64, 67, 0.15);\n",
              "      fill: #174EA6;\n",
              "    }\n",
              "\n",
              "    .colab-df-buttons div {\n",
              "      margin-bottom: 4px;\n",
              "    }\n",
              "\n",
              "    [theme=dark] .colab-df-convert {\n",
              "      background-color: #3B4455;\n",
              "      fill: #D2E3FC;\n",
              "    }\n",
              "\n",
              "    [theme=dark] .colab-df-convert:hover {\n",
              "      background-color: #434B5C;\n",
              "      box-shadow: 0px 1px 3px 1px rgba(0, 0, 0, 0.15);\n",
              "      filter: drop-shadow(0px 1px 2px rgba(0, 0, 0, 0.3));\n",
              "      fill: #FFFFFF;\n",
              "    }\n",
              "  </style>\n",
              "\n",
              "    <script>\n",
              "      const buttonEl =\n",
              "        document.querySelector('#df-cd42ee25-3635-45da-b905-5097e2a4a9bf button.colab-df-convert');\n",
              "      buttonEl.style.display =\n",
              "        google.colab.kernel.accessAllowed ? 'block' : 'none';\n",
              "\n",
              "      async function convertToInteractive(key) {\n",
              "        const element = document.querySelector('#df-cd42ee25-3635-45da-b905-5097e2a4a9bf');\n",
              "        const dataTable =\n",
              "          await google.colab.kernel.invokeFunction('convertToInteractive',\n",
              "                                                    [key], {});\n",
              "        if (!dataTable) return;\n",
              "\n",
              "        const docLinkHtml = 'Like what you see? Visit the ' +\n",
              "          '<a target=\"_blank\" href=https://colab.research.google.com/notebooks/data_table.ipynb>data table notebook</a>'\n",
              "          + ' to learn more about interactive tables.';\n",
              "        element.innerHTML = '';\n",
              "        dataTable['output_type'] = 'display_data';\n",
              "        await google.colab.output.renderOutput(dataTable, element);\n",
              "        const docLink = document.createElement('div');\n",
              "        docLink.innerHTML = docLinkHtml;\n",
              "        element.appendChild(docLink);\n",
              "      }\n",
              "    </script>\n",
              "  </div>\n",
              "\n",
              "\n",
              "<div id=\"df-be97edf6-b5ba-4c57-b0ba-388c72c0757d\">\n",
              "  <button class=\"colab-df-quickchart\" onclick=\"quickchart('df-be97edf6-b5ba-4c57-b0ba-388c72c0757d')\"\n",
              "            title=\"Suggest charts\"\n",
              "            style=\"display:none;\">\n",
              "\n",
              "<svg xmlns=\"http://www.w3.org/2000/svg\" height=\"24px\"viewBox=\"0 0 24 24\"\n",
              "     width=\"24px\">\n",
              "    <g>\n",
              "        <path d=\"M19 3H5c-1.1 0-2 .9-2 2v14c0 1.1.9 2 2 2h14c1.1 0 2-.9 2-2V5c0-1.1-.9-2-2-2zM9 17H7v-7h2v7zm4 0h-2V7h2v10zm4 0h-2v-4h2v4z\"/>\n",
              "    </g>\n",
              "</svg>\n",
              "  </button>\n",
              "\n",
              "<style>\n",
              "  .colab-df-quickchart {\n",
              "      --bg-color: #E8F0FE;\n",
              "      --fill-color: #1967D2;\n",
              "      --hover-bg-color: #E2EBFA;\n",
              "      --hover-fill-color: #174EA6;\n",
              "      --disabled-fill-color: #AAA;\n",
              "      --disabled-bg-color: #DDD;\n",
              "  }\n",
              "\n",
              "  [theme=dark] .colab-df-quickchart {\n",
              "      --bg-color: #3B4455;\n",
              "      --fill-color: #D2E3FC;\n",
              "      --hover-bg-color: #434B5C;\n",
              "      --hover-fill-color: #FFFFFF;\n",
              "      --disabled-bg-color: #3B4455;\n",
              "      --disabled-fill-color: #666;\n",
              "  }\n",
              "\n",
              "  .colab-df-quickchart {\n",
              "    background-color: var(--bg-color);\n",
              "    border: none;\n",
              "    border-radius: 50%;\n",
              "    cursor: pointer;\n",
              "    display: none;\n",
              "    fill: var(--fill-color);\n",
              "    height: 32px;\n",
              "    padding: 0;\n",
              "    width: 32px;\n",
              "  }\n",
              "\n",
              "  .colab-df-quickchart:hover {\n",
              "    background-color: var(--hover-bg-color);\n",
              "    box-shadow: 0 1px 2px rgba(60, 64, 67, 0.3), 0 1px 3px 1px rgba(60, 64, 67, 0.15);\n",
              "    fill: var(--button-hover-fill-color);\n",
              "  }\n",
              "\n",
              "  .colab-df-quickchart-complete:disabled,\n",
              "  .colab-df-quickchart-complete:disabled:hover {\n",
              "    background-color: var(--disabled-bg-color);\n",
              "    fill: var(--disabled-fill-color);\n",
              "    box-shadow: none;\n",
              "  }\n",
              "\n",
              "  .colab-df-spinner {\n",
              "    border: 2px solid var(--fill-color);\n",
              "    border-color: transparent;\n",
              "    border-bottom-color: var(--fill-color);\n",
              "    animation:\n",
              "      spin 1s steps(1) infinite;\n",
              "  }\n",
              "\n",
              "  @keyframes spin {\n",
              "    0% {\n",
              "      border-color: transparent;\n",
              "      border-bottom-color: var(--fill-color);\n",
              "      border-left-color: var(--fill-color);\n",
              "    }\n",
              "    20% {\n",
              "      border-color: transparent;\n",
              "      border-left-color: var(--fill-color);\n",
              "      border-top-color: var(--fill-color);\n",
              "    }\n",
              "    30% {\n",
              "      border-color: transparent;\n",
              "      border-left-color: var(--fill-color);\n",
              "      border-top-color: var(--fill-color);\n",
              "      border-right-color: var(--fill-color);\n",
              "    }\n",
              "    40% {\n",
              "      border-color: transparent;\n",
              "      border-right-color: var(--fill-color);\n",
              "      border-top-color: var(--fill-color);\n",
              "    }\n",
              "    60% {\n",
              "      border-color: transparent;\n",
              "      border-right-color: var(--fill-color);\n",
              "    }\n",
              "    80% {\n",
              "      border-color: transparent;\n",
              "      border-right-color: var(--fill-color);\n",
              "      border-bottom-color: var(--fill-color);\n",
              "    }\n",
              "    90% {\n",
              "      border-color: transparent;\n",
              "      border-bottom-color: var(--fill-color);\n",
              "    }\n",
              "  }\n",
              "</style>\n",
              "\n",
              "  <script>\n",
              "    async function quickchart(key) {\n",
              "      const quickchartButtonEl =\n",
              "        document.querySelector('#' + key + ' button');\n",
              "      quickchartButtonEl.disabled = true;  // To prevent multiple clicks.\n",
              "      quickchartButtonEl.classList.add('colab-df-spinner');\n",
              "      try {\n",
              "        const charts = await google.colab.kernel.invokeFunction(\n",
              "            'suggestCharts', [key], {});\n",
              "      } catch (error) {\n",
              "        console.error('Error during call to suggestCharts:', error);\n",
              "      }\n",
              "      quickchartButtonEl.classList.remove('colab-df-spinner');\n",
              "      quickchartButtonEl.classList.add('colab-df-quickchart-complete');\n",
              "    }\n",
              "    (() => {\n",
              "      let quickchartButtonEl =\n",
              "        document.querySelector('#df-be97edf6-b5ba-4c57-b0ba-388c72c0757d button');\n",
              "      quickchartButtonEl.style.display =\n",
              "        google.colab.kernel.accessAllowed ? 'block' : 'none';\n",
              "    })();\n",
              "  </script>\n",
              "</div>\n",
              "    </div>\n",
              "  </div>\n"
            ],
            "application/vnd.google.colaboratory.intrinsic+json": {
              "type": "dataframe",
              "variable_name": "reviews_filtered_df"
            }
          },
          "metadata": {},
          "execution_count": 22
        }
      ]
    },
    {
      "cell_type": "code",
      "source": [
        "reviews_filtered_df['product_name'].value_counts()"
      ],
      "metadata": {
        "colab": {
          "base_uri": "https://localhost:8080/"
        },
        "id": "FoHlMvBr993H",
        "outputId": "8bd66999-b44f-41f6-af6a-dc945c9808db"
      },
      "execution_count": null,
      "outputs": [
        {
          "output_type": "execute_result",
          "data": {
            "text/plain": [
              "product_name\n",
              "Lip Sleeping Mask Intense Hydration with Vitamin C    16138\n",
              "Soy Hydrating Gentle Face Cleanser                     8736\n",
              "100 percent Pure Argan Oil                             7763\n",
              "Ultra Repair Cream Intense Hydration                   7547\n",
              "Alpha Beta Extra Strength Daily Peel Pads              7414\n",
              "                                                      ...  \n",
              "Vinosource-Hydra SOS Intense Hydration Moisturizer      502\n",
              "Self-Tan Luxe Whipped Crème Mousse                      502\n",
              "Glow Stick Sunscreen SPF 50 PA++++                      502\n",
              "Ascorbic Acid 8% + Alpha Arbutin 2%                     501\n",
              "Eye Doctor Moisture Care For Skin Around Eyes           501\n",
              "Name: count, Length: 573, dtype: int64"
            ]
          },
          "metadata": {},
          "execution_count": 23
        }
      ]
    },
    {
      "cell_type": "code",
      "source": [
        "reviews_filtered_df['brand_name'].value_counts()"
      ],
      "metadata": {
        "colab": {
          "base_uri": "https://localhost:8080/"
        },
        "id": "H9Bv17Gr9-R1",
        "outputId": "998b9b21-55e2-4dad-c439-3eb318e60fe8"
      },
      "execution_count": null,
      "outputs": [
        {
          "output_type": "execute_result",
          "data": {
            "text/plain": [
              "brand_name\n",
              "CLINIQUE                             50527\n",
              "Tatcha                               49337\n",
              "fresh                                47545\n",
              "Drunk Elephant                       46262\n",
              "Glow Recipe                          38495\n",
              "                                     ...  \n",
              "Paula's Choice                        1200\n",
              "WASO                                  1046\n",
              "Dr. Lara Devgan Scientific Beauty      835\n",
              "Dr. Zenovia Skincare                   519\n",
              "Moon Juice                             510\n",
              "Name: count, Length: 79, dtype: int64"
            ]
          },
          "metadata": {},
          "execution_count": 24
        }
      ]
    },
    {
      "cell_type": "code",
      "source": [
        "product_skincare.isna().sum()"
      ],
      "metadata": {
        "colab": {
          "base_uri": "https://localhost:8080/"
        },
        "id": "QG642F5N_EdW",
        "outputId": "2134f99e-8c56-43cc-f839-3b2fe9d0afae"
      },
      "execution_count": null,
      "outputs": [
        {
          "output_type": "execute_result",
          "data": {
            "text/plain": [
              "product_name             0\n",
              "brand_id                 0\n",
              "brand_name               0\n",
              "loves_count              0\n",
              "rating                  69\n",
              "reviews                 69\n",
              "size                   365\n",
              "variation_type         372\n",
              "variation_value        420\n",
              "variation_desc        2407\n",
              "ingredients            134\n",
              "price_usd                0\n",
              "value_price_usd       2258\n",
              "sale_price_usd        2375\n",
              "limited_edition          0\n",
              "new                      0\n",
              "online_only              0\n",
              "out_of_stock             0\n",
              "sephora_exclusive        0\n",
              "highlights             417\n",
              "primary_category         0\n",
              "secondary_category       0\n",
              "tertiary_category      380\n",
              "child_count              0\n",
              "child_max_price       2018\n",
              "child_min_price       2018\n",
              "dtype: int64"
            ]
          },
          "metadata": {},
          "execution_count": 25
        }
      ]
    },
    {
      "cell_type": "code",
      "source": [
        "reviews_filtered_df.isna().sum()"
      ],
      "metadata": {
        "colab": {
          "base_uri": "https://localhost:8080/"
        },
        "id": "dpTbCPVD_Qke",
        "outputId": "02ebdd57-d51e-4845-a240-0d8387ae4ad1"
      },
      "execution_count": null,
      "outputs": [
        {
          "output_type": "execute_result",
          "data": {
            "text/plain": [
              "author_id                        0\n",
              "rating                           0\n",
              "is_recommended              174295\n",
              "helpfulness                 567743\n",
              "total_feedback_count             0\n",
              "total_neg_feedback_count         0\n",
              "total_pos_feedback_count         0\n",
              "submission_time                  0\n",
              "review_text                   1401\n",
              "review_title                298853\n",
              "skin_tone                   165563\n",
              "eye_color                   212473\n",
              "skin_type                   111845\n",
              "hair_color                  221443\n",
              "product_id                       0\n",
              "product_name                     0\n",
              "brand_name                       0\n",
              "price_usd                        0\n",
              "dtype: int64"
            ]
          },
          "metadata": {},
          "execution_count": 26
        }
      ]
    },
    {
      "cell_type": "code",
      "source": [
        "# Normalize case by converting 'product_name' and 'brand_name' to lowercase for both DataFrames\n",
        "product_skincare['product_name'] = product_skincare['product_name'].str.lower()\n",
        "product_skincare['brand_name'] = product_skincare['brand_name'].str.lower()\n",
        "\n",
        "reviews_filtered_df['product_name'] = reviews_filtered_df['product_name'].str.lower()\n",
        "reviews_filtered_df['brand_name'] = reviews_filtered_df['brand_name'].str.lower()\n",
        "\n"
      ],
      "metadata": {
        "id": "3IbGkHk-2EnA"
      },
      "execution_count": null,
      "outputs": []
    },
    {
      "cell_type": "code",
      "source": [
        "# Inner Merge for Matrix Factorization\n",
        "mf_merged_df = pd.merge(reviews_filtered_df, product_skincare,\n",
        "                        on=['product_name', 'brand_name'],\n",
        "                        how='inner')"
      ],
      "metadata": {
        "id": "BApt45vA-r7z"
      },
      "execution_count": null,
      "outputs": []
    },
    {
      "cell_type": "code",
      "source": [
        "mf_df = mf_merged_df"
      ],
      "metadata": {
        "id": "fQP8qn3i8wpI"
      },
      "execution_count": null,
      "outputs": []
    },
    {
      "cell_type": "code",
      "source": [
        "mf_df.isna().sum()"
      ],
      "metadata": {
        "colab": {
          "base_uri": "https://localhost:8080/"
        },
        "id": "7yduN0Ui_zMQ",
        "outputId": "44164525-0caf-4156-b5c4-9d2245292354"
      },
      "execution_count": null,
      "outputs": [
        {
          "output_type": "execute_result",
          "data": {
            "text/plain": [
              "author_id                         0\n",
              "rating_x                          0\n",
              "is_recommended               179084\n",
              "helpfulness                  574608\n",
              "total_feedback_count              0\n",
              "total_neg_feedback_count          0\n",
              "total_pos_feedback_count          0\n",
              "submission_time                   0\n",
              "review_text                    1420\n",
              "review_title                 302303\n",
              "skin_tone                    168260\n",
              "eye_color                    217777\n",
              "skin_type                    113722\n",
              "hair_color                   226965\n",
              "product_id                        0\n",
              "product_name                      0\n",
              "brand_name                        0\n",
              "price_usd_x                       0\n",
              "brand_id                          0\n",
              "loves_count                       0\n",
              "rating_y                          0\n",
              "reviews                           0\n",
              "size                          31042\n",
              "variation_type                43667\n",
              "variation_value               50256\n",
              "variation_desc              1061642\n",
              "ingredients                   15414\n",
              "price_usd_y                       0\n",
              "value_price_usd             1041782\n",
              "sale_price_usd              1060005\n",
              "limited_edition                   0\n",
              "new                               0\n",
              "online_only                       0\n",
              "out_of_stock                      0\n",
              "sephora_exclusive                 0\n",
              "highlights                   102988\n",
              "primary_category                  0\n",
              "secondary_category                0\n",
              "tertiary_category            169274\n",
              "child_count                       0\n",
              "child_max_price              596080\n",
              "child_min_price              596080\n",
              "dtype: int64"
            ]
          },
          "metadata": {},
          "execution_count": 36
        }
      ]
    },
    {
      "cell_type": "code",
      "source": [
        "import pandas as pd\n",
        "import matplotlib.pyplot as plt\n",
        "import seaborn as sns\n",
        "from scipy.stats import skew\n",
        "\n",
        "class Missing_Values_Preprocessing:\n",
        "    def calculate_missing_values_percent(self, df):\n",
        "        \"\"\"Calculate the percentage of missing values for each column in the DataFrame.\"\"\"\n",
        "        missing_percent = df.isnull().sum() * 100 / len(df)\n",
        "        missing_percent_df = pd.DataFrame({'column_name': df.columns,\n",
        "                                           'percent_missing': missing_percent}).reset_index(drop=True)\n",
        "        return missing_percent_df\n",
        "\n",
        "    def drop_columns_with_missing_values(self, df, threshold=20):\n",
        "        \"\"\"\n",
        "        Drop columns from the DataFrame if they have more than a specified percentage of missing values.\n",
        "        \"\"\"\n",
        "        percent_missing = df.isna().sum() * 100 / len(df)\n",
        "        columns_to_drop = percent_missing[percent_missing > threshold].index\n",
        "        df_dropped = df.drop(columns=columns_to_drop)\n",
        "        print(f\"Dropped columns: {list(columns_to_drop)}\")\n",
        "        return df_dropped\n",
        "\n",
        "    def drop_rows_with_missing_values(self, df):\n",
        "        \"\"\"\n",
        "        Drop rows from the DataFrame that have any missing values.\n",
        "        \"\"\"\n",
        "        initial_row_count = len(df)\n",
        "        df_dropped = df.dropna()\n",
        "        final_row_count = len(df_dropped)\n",
        "        print(f\"Dropped rows: {initial_row_count - final_row_count}\")\n",
        "        return df_dropped\n",
        "\n",
        "    def check_distribution_of_missing(self, df):\n",
        "        \"\"\"\n",
        "        Check the distribution of columns with missing values to determine if they are normally distributed or skewed.\n",
        "        \"\"\"\n",
        "        columns_with_missing = df.columns[df.isnull().any() & (df.dtypes != \"object\")].tolist()\n",
        "        skewness = df[columns_with_missing].apply(lambda x: skew(x.dropna()), axis=0)\n",
        "        distribution_type = skewness.apply(lambda x: 'Highly skewed' if abs(x) > 1 else\n",
        "                                                      'Moderately skewed' if abs(x) > 0.5 else\n",
        "                                                      'Approximately symmetric')\n",
        "        distribution_df = pd.DataFrame({'column_name': columns_with_missing,\n",
        "                                        'skewness': skewness,\n",
        "                                        'distribution': distribution_type}).reset_index(drop=True)\n",
        "        return distribution_df\n",
        "\n",
        "    def visualize_distribution(self, df, column_name):\n",
        "        \"\"\"\n",
        "        Visualize the distribution of a given column using histogram and density plot.\n",
        "        \"\"\"\n",
        "        if column_name in df.columns:\n",
        "            plt.figure(figsize=(10, 6))\n",
        "            sns.histplot(df[column_name], kde=True, stat=\"density\", linewidth=0)\n",
        "            plt.title(f'Distribution of {column_name}')\n",
        "            plt.xlabel(column_name)\n",
        "            plt.ylabel('Density')\n",
        "            plt.show()\n",
        "        else:\n",
        "            print(f\"Column '{column_name}' does not exist in the DataFrame.\")\n",
        "\n",
        "    def check_for_duplicates(self, df):\n",
        "        \"\"\"\n",
        "        Check for duplicate rows in the DataFrame.\n",
        "\n",
        "        Returns:\n",
        "        - The number of duplicate rows found.\n",
        "        \"\"\"\n",
        "        duplicate_rows = df.duplicated().sum()\n",
        "        print(f\"Number of duplicate rows: {duplicate_rows}\")\n",
        "        return duplicate_rows\n",
        "\n",
        "    def drop_duplicates(self, df):\n",
        "        \"\"\"\n",
        "        Drop duplicate rows from the DataFrame.\n",
        "\n",
        "        Returns:\n",
        "        - DataFrame with duplicates removed.\n",
        "        \"\"\"\n",
        "\n",
        "        initial_row_count = len(df)\n",
        "        df_dropped = df.drop_duplicates()\n",
        "        final_row_count = len(df_dropped)\n",
        "        print(f\"Dropped duplicate rows: {initial_row_count - final_row_count}\")\n",
        "        return df_dropped\n",
        "\n",
        "\n",
        "# Assuming mf_df is your DataFrame after the inner merge\n",
        "preprocessor = Missing_Values_Preprocessing()"
      ],
      "metadata": {
        "id": "heGt-TU2-pzu"
      },
      "execution_count": null,
      "outputs": []
    },
    {
      "cell_type": "code",
      "source": [
        "mf_df2 = preprocessor.drop_columns_with_missing_values(mf_df)"
      ],
      "metadata": {
        "colab": {
          "base_uri": "https://localhost:8080/"
        },
        "id": "_pqUox4tAdKF",
        "outputId": "6f581ef7-6993-4e6c-880b-0a3cb231cf19"
      },
      "execution_count": null,
      "outputs": [
        {
          "output_type": "stream",
          "name": "stdout",
          "text": [
            "Dropped columns: ['helpfulness', 'review_title', 'eye_color', 'hair_color', 'variation_desc', 'value_price_usd', 'sale_price_usd', 'child_max_price', 'child_min_price']\n"
          ]
        }
      ]
    },
    {
      "cell_type": "code",
      "source": [
        "mf_df2.isna().sum()"
      ],
      "metadata": {
        "colab": {
          "base_uri": "https://localhost:8080/"
        },
        "id": "QRZUdgUPCWBU",
        "outputId": "c2521325-ea40-4b20-abda-2e19b1bf2afe"
      },
      "execution_count": null,
      "outputs": [
        {
          "output_type": "execute_result",
          "data": {
            "text/plain": [
              "author_id                        0\n",
              "rating_x                         0\n",
              "is_recommended              179084\n",
              "total_feedback_count             0\n",
              "total_neg_feedback_count         0\n",
              "total_pos_feedback_count         0\n",
              "submission_time                  0\n",
              "review_text                   1420\n",
              "skin_tone                   168260\n",
              "skin_type                   113722\n",
              "product_id                       0\n",
              "product_name                     0\n",
              "brand_name                       0\n",
              "price_usd_x                      0\n",
              "brand_id                         0\n",
              "loves_count                      0\n",
              "rating_y                         0\n",
              "reviews                          0\n",
              "size                         31042\n",
              "variation_type               43667\n",
              "variation_value              50256\n",
              "ingredients                  15414\n",
              "price_usd_y                      0\n",
              "limited_edition                  0\n",
              "new                              0\n",
              "online_only                      0\n",
              "out_of_stock                     0\n",
              "sephora_exclusive                0\n",
              "highlights                  102988\n",
              "primary_category                 0\n",
              "secondary_category               0\n",
              "tertiary_category           169274\n",
              "child_count                      0\n",
              "dtype: int64"
            ]
          },
          "metadata": {},
          "execution_count": 40
        }
      ]
    },
    {
      "cell_type": "code",
      "source": [
        "# Columns to drop\n",
        "columns_to_drop = [\n",
        "    'child_count', 'tertiary_category', 'secondary_category', 'primary_category',\n",
        "    'highlights', 'sephora_exclusive', 'out_of_stock', 'online_only', 'new',\n",
        "    'limited_edition', 'variation_type', 'variation_value', 'size', 'brand_id',\n",
        "    'submission_time'\n",
        "]\n",
        "\n",
        "# Drop the specified columns\n",
        "mf_df3 = mf_df2.drop(columns=columns_to_drop, errors='ignore')\n",
        "\n",
        "\n"
      ],
      "metadata": {
        "id": "buUX-rClFmvR"
      },
      "execution_count": null,
      "outputs": []
    },
    {
      "cell_type": "code",
      "source": [
        "mf_df3.isna().sum()"
      ],
      "metadata": {
        "colab": {
          "base_uri": "https://localhost:8080/"
        },
        "id": "4Utq20PTFmzJ",
        "outputId": "75ab98a5-5301-439b-c12f-33330d93cc9c"
      },
      "execution_count": null,
      "outputs": [
        {
          "output_type": "execute_result",
          "data": {
            "text/plain": [
              "author_id                        0\n",
              "rating_x                         0\n",
              "is_recommended              179084\n",
              "total_feedback_count             0\n",
              "total_neg_feedback_count         0\n",
              "total_pos_feedback_count         0\n",
              "review_text                   1420\n",
              "skin_tone                   168260\n",
              "skin_type                   113722\n",
              "product_id                       0\n",
              "product_name                     0\n",
              "brand_name                       0\n",
              "price_usd_x                      0\n",
              "loves_count                      0\n",
              "rating_y                         0\n",
              "reviews                          0\n",
              "ingredients                  15414\n",
              "price_usd_y                      0\n",
              "dtype: int64"
            ]
          },
          "metadata": {},
          "execution_count": 42
        }
      ]
    },
    {
      "cell_type": "code",
      "source": [
        "mf_df4 = mf_df3.dropna()"
      ],
      "metadata": {
        "id": "mVkPkjDFH6Kg"
      },
      "execution_count": null,
      "outputs": []
    },
    {
      "cell_type": "code",
      "source": [
        "mf_df4.isna().sum()"
      ],
      "metadata": {
        "colab": {
          "base_uri": "https://localhost:8080/"
        },
        "id": "wtNMxyjkIs1H",
        "outputId": "f4add817-dff5-4b2e-8c02-c9f15039506e"
      },
      "execution_count": null,
      "outputs": [
        {
          "output_type": "execute_result",
          "data": {
            "text/plain": [
              "author_id                   0\n",
              "rating_x                    0\n",
              "is_recommended              0\n",
              "total_feedback_count        0\n",
              "total_neg_feedback_count    0\n",
              "total_pos_feedback_count    0\n",
              "review_text                 0\n",
              "skin_tone                   0\n",
              "skin_type                   0\n",
              "product_id                  0\n",
              "product_name                0\n",
              "brand_name                  0\n",
              "price_usd_x                 0\n",
              "loves_count                 0\n",
              "rating_y                    0\n",
              "reviews                     0\n",
              "ingredients                 0\n",
              "price_usd_y                 0\n",
              "dtype: int64"
            ]
          },
          "metadata": {},
          "execution_count": 44
        }
      ]
    },
    {
      "cell_type": "code",
      "source": [
        "# Dictionary to rename columns with _x and _y suffixes\n",
        "rename_columns = {\n",
        "    'rating_x': 'rating_reviews',\n",
        "    'rating_y': 'rating_products',\n",
        "    'price_usd_x': 'price_usd_reviews',\n",
        "    'price_usd_y': 'price_usd_products'\n",
        "}\n",
        "\n",
        "# Rename the columns in the DataFrame\n",
        "mf_df4.rename(columns=rename_columns, inplace=True)\n",
        "\n",
        "\n"
      ],
      "metadata": {
        "id": "RygT-asaJqBT"
      },
      "execution_count": null,
      "outputs": []
    },
    {
      "cell_type": "code",
      "source": [
        "mf_df4[['rating_reviews', 'rating_products']]"
      ],
      "metadata": {
        "colab": {
          "base_uri": "https://localhost:8080/",
          "height": 424
        },
        "id": "hF-3RHeUJqEG",
        "outputId": "3be9aa93-1aeb-4290-b590-b5b377c9f47d"
      },
      "execution_count": null,
      "outputs": [
        {
          "output_type": "execute_result",
          "data": {
            "text/plain": [
              "         rating_reviews  rating_products\n",
              "1                     5           4.3508\n",
              "3                     5           4.3508\n",
              "4                     4           4.3508\n",
              "5                     2           4.3508\n",
              "6                     5           4.3508\n",
              "...                 ...              ...\n",
              "1069777               5           4.7850\n",
              "1069778               5           4.7850\n",
              "1069779               5           4.7850\n",
              "1069780               5           4.7850\n",
              "1069781               5           4.7850\n",
              "\n",
              "[847608 rows x 2 columns]"
            ],
            "text/html": [
              "\n",
              "  <div id=\"df-21d749ee-a14a-456c-b67c-6bea46e35cdc\" class=\"colab-df-container\">\n",
              "    <div>\n",
              "<style scoped>\n",
              "    .dataframe tbody tr th:only-of-type {\n",
              "        vertical-align: middle;\n",
              "    }\n",
              "\n",
              "    .dataframe tbody tr th {\n",
              "        vertical-align: top;\n",
              "    }\n",
              "\n",
              "    .dataframe thead th {\n",
              "        text-align: right;\n",
              "    }\n",
              "</style>\n",
              "<table border=\"1\" class=\"dataframe\">\n",
              "  <thead>\n",
              "    <tr style=\"text-align: right;\">\n",
              "      <th></th>\n",
              "      <th>rating_reviews</th>\n",
              "      <th>rating_products</th>\n",
              "    </tr>\n",
              "  </thead>\n",
              "  <tbody>\n",
              "    <tr>\n",
              "      <th>1</th>\n",
              "      <td>5</td>\n",
              "      <td>4.3508</td>\n",
              "    </tr>\n",
              "    <tr>\n",
              "      <th>3</th>\n",
              "      <td>5</td>\n",
              "      <td>4.3508</td>\n",
              "    </tr>\n",
              "    <tr>\n",
              "      <th>4</th>\n",
              "      <td>4</td>\n",
              "      <td>4.3508</td>\n",
              "    </tr>\n",
              "    <tr>\n",
              "      <th>5</th>\n",
              "      <td>2</td>\n",
              "      <td>4.3508</td>\n",
              "    </tr>\n",
              "    <tr>\n",
              "      <th>6</th>\n",
              "      <td>5</td>\n",
              "      <td>4.3508</td>\n",
              "    </tr>\n",
              "    <tr>\n",
              "      <th>...</th>\n",
              "      <td>...</td>\n",
              "      <td>...</td>\n",
              "    </tr>\n",
              "    <tr>\n",
              "      <th>1069777</th>\n",
              "      <td>5</td>\n",
              "      <td>4.7850</td>\n",
              "    </tr>\n",
              "    <tr>\n",
              "      <th>1069778</th>\n",
              "      <td>5</td>\n",
              "      <td>4.7850</td>\n",
              "    </tr>\n",
              "    <tr>\n",
              "      <th>1069779</th>\n",
              "      <td>5</td>\n",
              "      <td>4.7850</td>\n",
              "    </tr>\n",
              "    <tr>\n",
              "      <th>1069780</th>\n",
              "      <td>5</td>\n",
              "      <td>4.7850</td>\n",
              "    </tr>\n",
              "    <tr>\n",
              "      <th>1069781</th>\n",
              "      <td>5</td>\n",
              "      <td>4.7850</td>\n",
              "    </tr>\n",
              "  </tbody>\n",
              "</table>\n",
              "<p>847608 rows × 2 columns</p>\n",
              "</div>\n",
              "    <div class=\"colab-df-buttons\">\n",
              "\n",
              "  <div class=\"colab-df-container\">\n",
              "    <button class=\"colab-df-convert\" onclick=\"convertToInteractive('df-21d749ee-a14a-456c-b67c-6bea46e35cdc')\"\n",
              "            title=\"Convert this dataframe to an interactive table.\"\n",
              "            style=\"display:none;\">\n",
              "\n",
              "  <svg xmlns=\"http://www.w3.org/2000/svg\" height=\"24px\" viewBox=\"0 -960 960 960\">\n",
              "    <path d=\"M120-120v-720h720v720H120Zm60-500h600v-160H180v160Zm220 220h160v-160H400v160Zm0 220h160v-160H400v160ZM180-400h160v-160H180v160Zm440 0h160v-160H620v160ZM180-180h160v-160H180v160Zm440 0h160v-160H620v160Z\"/>\n",
              "  </svg>\n",
              "    </button>\n",
              "\n",
              "  <style>\n",
              "    .colab-df-container {\n",
              "      display:flex;\n",
              "      gap: 12px;\n",
              "    }\n",
              "\n",
              "    .colab-df-convert {\n",
              "      background-color: #E8F0FE;\n",
              "      border: none;\n",
              "      border-radius: 50%;\n",
              "      cursor: pointer;\n",
              "      display: none;\n",
              "      fill: #1967D2;\n",
              "      height: 32px;\n",
              "      padding: 0 0 0 0;\n",
              "      width: 32px;\n",
              "    }\n",
              "\n",
              "    .colab-df-convert:hover {\n",
              "      background-color: #E2EBFA;\n",
              "      box-shadow: 0px 1px 2px rgba(60, 64, 67, 0.3), 0px 1px 3px 1px rgba(60, 64, 67, 0.15);\n",
              "      fill: #174EA6;\n",
              "    }\n",
              "\n",
              "    .colab-df-buttons div {\n",
              "      margin-bottom: 4px;\n",
              "    }\n",
              "\n",
              "    [theme=dark] .colab-df-convert {\n",
              "      background-color: #3B4455;\n",
              "      fill: #D2E3FC;\n",
              "    }\n",
              "\n",
              "    [theme=dark] .colab-df-convert:hover {\n",
              "      background-color: #434B5C;\n",
              "      box-shadow: 0px 1px 3px 1px rgba(0, 0, 0, 0.15);\n",
              "      filter: drop-shadow(0px 1px 2px rgba(0, 0, 0, 0.3));\n",
              "      fill: #FFFFFF;\n",
              "    }\n",
              "  </style>\n",
              "\n",
              "    <script>\n",
              "      const buttonEl =\n",
              "        document.querySelector('#df-21d749ee-a14a-456c-b67c-6bea46e35cdc button.colab-df-convert');\n",
              "      buttonEl.style.display =\n",
              "        google.colab.kernel.accessAllowed ? 'block' : 'none';\n",
              "\n",
              "      async function convertToInteractive(key) {\n",
              "        const element = document.querySelector('#df-21d749ee-a14a-456c-b67c-6bea46e35cdc');\n",
              "        const dataTable =\n",
              "          await google.colab.kernel.invokeFunction('convertToInteractive',\n",
              "                                                    [key], {});\n",
              "        if (!dataTable) return;\n",
              "\n",
              "        const docLinkHtml = 'Like what you see? Visit the ' +\n",
              "          '<a target=\"_blank\" href=https://colab.research.google.com/notebooks/data_table.ipynb>data table notebook</a>'\n",
              "          + ' to learn more about interactive tables.';\n",
              "        element.innerHTML = '';\n",
              "        dataTable['output_type'] = 'display_data';\n",
              "        await google.colab.output.renderOutput(dataTable, element);\n",
              "        const docLink = document.createElement('div');\n",
              "        docLink.innerHTML = docLinkHtml;\n",
              "        element.appendChild(docLink);\n",
              "      }\n",
              "    </script>\n",
              "  </div>\n",
              "\n",
              "\n",
              "<div id=\"df-d6135262-38ea-4950-a0b7-9f042de700a3\">\n",
              "  <button class=\"colab-df-quickchart\" onclick=\"quickchart('df-d6135262-38ea-4950-a0b7-9f042de700a3')\"\n",
              "            title=\"Suggest charts\"\n",
              "            style=\"display:none;\">\n",
              "\n",
              "<svg xmlns=\"http://www.w3.org/2000/svg\" height=\"24px\"viewBox=\"0 0 24 24\"\n",
              "     width=\"24px\">\n",
              "    <g>\n",
              "        <path d=\"M19 3H5c-1.1 0-2 .9-2 2v14c0 1.1.9 2 2 2h14c1.1 0 2-.9 2-2V5c0-1.1-.9-2-2-2zM9 17H7v-7h2v7zm4 0h-2V7h2v10zm4 0h-2v-4h2v4z\"/>\n",
              "    </g>\n",
              "</svg>\n",
              "  </button>\n",
              "\n",
              "<style>\n",
              "  .colab-df-quickchart {\n",
              "      --bg-color: #E8F0FE;\n",
              "      --fill-color: #1967D2;\n",
              "      --hover-bg-color: #E2EBFA;\n",
              "      --hover-fill-color: #174EA6;\n",
              "      --disabled-fill-color: #AAA;\n",
              "      --disabled-bg-color: #DDD;\n",
              "  }\n",
              "\n",
              "  [theme=dark] .colab-df-quickchart {\n",
              "      --bg-color: #3B4455;\n",
              "      --fill-color: #D2E3FC;\n",
              "      --hover-bg-color: #434B5C;\n",
              "      --hover-fill-color: #FFFFFF;\n",
              "      --disabled-bg-color: #3B4455;\n",
              "      --disabled-fill-color: #666;\n",
              "  }\n",
              "\n",
              "  .colab-df-quickchart {\n",
              "    background-color: var(--bg-color);\n",
              "    border: none;\n",
              "    border-radius: 50%;\n",
              "    cursor: pointer;\n",
              "    display: none;\n",
              "    fill: var(--fill-color);\n",
              "    height: 32px;\n",
              "    padding: 0;\n",
              "    width: 32px;\n",
              "  }\n",
              "\n",
              "  .colab-df-quickchart:hover {\n",
              "    background-color: var(--hover-bg-color);\n",
              "    box-shadow: 0 1px 2px rgba(60, 64, 67, 0.3), 0 1px 3px 1px rgba(60, 64, 67, 0.15);\n",
              "    fill: var(--button-hover-fill-color);\n",
              "  }\n",
              "\n",
              "  .colab-df-quickchart-complete:disabled,\n",
              "  .colab-df-quickchart-complete:disabled:hover {\n",
              "    background-color: var(--disabled-bg-color);\n",
              "    fill: var(--disabled-fill-color);\n",
              "    box-shadow: none;\n",
              "  }\n",
              "\n",
              "  .colab-df-spinner {\n",
              "    border: 2px solid var(--fill-color);\n",
              "    border-color: transparent;\n",
              "    border-bottom-color: var(--fill-color);\n",
              "    animation:\n",
              "      spin 1s steps(1) infinite;\n",
              "  }\n",
              "\n",
              "  @keyframes spin {\n",
              "    0% {\n",
              "      border-color: transparent;\n",
              "      border-bottom-color: var(--fill-color);\n",
              "      border-left-color: var(--fill-color);\n",
              "    }\n",
              "    20% {\n",
              "      border-color: transparent;\n",
              "      border-left-color: var(--fill-color);\n",
              "      border-top-color: var(--fill-color);\n",
              "    }\n",
              "    30% {\n",
              "      border-color: transparent;\n",
              "      border-left-color: var(--fill-color);\n",
              "      border-top-color: var(--fill-color);\n",
              "      border-right-color: var(--fill-color);\n",
              "    }\n",
              "    40% {\n",
              "      border-color: transparent;\n",
              "      border-right-color: var(--fill-color);\n",
              "      border-top-color: var(--fill-color);\n",
              "    }\n",
              "    60% {\n",
              "      border-color: transparent;\n",
              "      border-right-color: var(--fill-color);\n",
              "    }\n",
              "    80% {\n",
              "      border-color: transparent;\n",
              "      border-right-color: var(--fill-color);\n",
              "      border-bottom-color: var(--fill-color);\n",
              "    }\n",
              "    90% {\n",
              "      border-color: transparent;\n",
              "      border-bottom-color: var(--fill-color);\n",
              "    }\n",
              "  }\n",
              "</style>\n",
              "\n",
              "  <script>\n",
              "    async function quickchart(key) {\n",
              "      const quickchartButtonEl =\n",
              "        document.querySelector('#' + key + ' button');\n",
              "      quickchartButtonEl.disabled = true;  // To prevent multiple clicks.\n",
              "      quickchartButtonEl.classList.add('colab-df-spinner');\n",
              "      try {\n",
              "        const charts = await google.colab.kernel.invokeFunction(\n",
              "            'suggestCharts', [key], {});\n",
              "      } catch (error) {\n",
              "        console.error('Error during call to suggestCharts:', error);\n",
              "      }\n",
              "      quickchartButtonEl.classList.remove('colab-df-spinner');\n",
              "      quickchartButtonEl.classList.add('colab-df-quickchart-complete');\n",
              "    }\n",
              "    (() => {\n",
              "      let quickchartButtonEl =\n",
              "        document.querySelector('#df-d6135262-38ea-4950-a0b7-9f042de700a3 button');\n",
              "      quickchartButtonEl.style.display =\n",
              "        google.colab.kernel.accessAllowed ? 'block' : 'none';\n",
              "    })();\n",
              "  </script>\n",
              "</div>\n",
              "    </div>\n",
              "  </div>\n"
            ],
            "application/vnd.google.colaboratory.intrinsic+json": {
              "type": "dataframe"
            }
          },
          "metadata": {},
          "execution_count": 46
        }
      ]
    },
    {
      "cell_type": "code",
      "source": [
        "mf_df4['author_id'].value_counts().iloc[7000:]"
      ],
      "metadata": {
        "colab": {
          "base_uri": "https://localhost:8080/"
        },
        "id": "v-cUQLXhJqHC",
        "outputId": "3af05a96-ec52-4cb8-dbc6-7cc11fe067c0"
      },
      "execution_count": null,
      "outputs": [
        {
          "output_type": "execute_result",
          "data": {
            "text/plain": [
              "author_id\n",
              "11652795365    10\n",
              "22633803755    10\n",
              "5552996259     10\n",
              "23576521763    10\n",
              "22201794098    10\n",
              "               ..\n",
              "39891258255     1\n",
              "30088025069     1\n",
              "36306363787     1\n",
              "6286897153      1\n",
              "26685757939     1\n",
              "Name: count, Length: 320817, dtype: int64"
            ]
          },
          "metadata": {},
          "execution_count": 47
        }
      ]
    },
    {
      "cell_type": "code",
      "source": [
        "# Calculate the count of each author_id\n",
        "author_counts = mf_df4['author_id'].value_counts()\n",
        "\n",
        "# Filter author_ids with more than 10 occurrences\n",
        "authors_over_10 = author_counts[author_counts > 9].index\n",
        "\n",
        "# Create the new DataFrame including only rows with author_ids that have more than 10 occurrences\n",
        "mf_df5 = mf_df4[mf_df4['author_id'].isin(authors_over_10)]"
      ],
      "metadata": {
        "id": "QWFSzsIIJqJp"
      },
      "execution_count": null,
      "outputs": []
    },
    {
      "cell_type": "code",
      "source": [
        "mf_df5['author_id'].value_counts()"
      ],
      "metadata": {
        "colab": {
          "base_uri": "https://localhost:8080/"
        },
        "id": "5gG4_OMBJqMu",
        "outputId": "459cd74a-b85e-4ad6-a928-ab7180b0dd9a"
      },
      "execution_count": null,
      "outputs": [
        {
          "output_type": "execute_result",
          "data": {
            "text/plain": [
              "author_id\n",
              "1696370280    242\n",
              "1288462295    138\n",
              "1930716686    128\n",
              "2330399812     96\n",
              "5060164185     95\n",
              "             ... \n",
              "5401594584     10\n",
              "1591112910     10\n",
              "5713635898     10\n",
              "2411631269     10\n",
              "7178152696     10\n",
              "Name: count, Length: 8681, dtype: int64"
            ]
          },
          "metadata": {},
          "execution_count": 49
        }
      ]
    },
    {
      "cell_type": "code",
      "source": [
        "mf_df5.shape"
      ],
      "metadata": {
        "colab": {
          "base_uri": "https://localhost:8080/"
        },
        "id": "06ssSiP8MM3d",
        "outputId": "063028ad-9dbb-4e44-98d1-23ba768d8908"
      },
      "execution_count": null,
      "outputs": [
        {
          "output_type": "execute_result",
          "data": {
            "text/plain": [
              "(143669, 18)"
            ]
          },
          "metadata": {},
          "execution_count": 50
        }
      ]
    },
    {
      "cell_type": "code",
      "source": [
        "mf_df5.info()"
      ],
      "metadata": {
        "colab": {
          "base_uri": "https://localhost:8080/"
        },
        "id": "U8rBnpPYMM6Y",
        "outputId": "af1068da-c9a7-4602-91d7-77f565887fef"
      },
      "execution_count": null,
      "outputs": [
        {
          "output_type": "stream",
          "name": "stdout",
          "text": [
            "<class 'pandas.core.frame.DataFrame'>\n",
            "Index: 143669 entries, 28 to 1069715\n",
            "Data columns (total 18 columns):\n",
            " #   Column                    Non-Null Count   Dtype  \n",
            "---  ------                    --------------   -----  \n",
            " 0   author_id                 143669 non-null  object \n",
            " 1   rating_reviews            143669 non-null  int64  \n",
            " 2   is_recommended            143669 non-null  float64\n",
            " 3   total_feedback_count      143669 non-null  int64  \n",
            " 4   total_neg_feedback_count  143669 non-null  int64  \n",
            " 5   total_pos_feedback_count  143669 non-null  int64  \n",
            " 6   review_text               143669 non-null  object \n",
            " 7   skin_tone                 143669 non-null  object \n",
            " 8   skin_type                 143669 non-null  object \n",
            " 9   product_id                143669 non-null  object \n",
            " 10  product_name              143669 non-null  object \n",
            " 11  brand_name                143669 non-null  object \n",
            " 12  price_usd_reviews         143669 non-null  float64\n",
            " 13  loves_count               143669 non-null  int64  \n",
            " 14  rating_products           143669 non-null  float64\n",
            " 15  reviews                   143669 non-null  float64\n",
            " 16  ingredients               143669 non-null  object \n",
            " 17  price_usd_products        143669 non-null  float64\n",
            "dtypes: float64(5), int64(5), object(8)\n",
            "memory usage: 20.8+ MB\n"
          ]
        }
      ]
    },
    {
      "cell_type": "code",
      "source": [
        "mf_df5['product_id'].value_counts()"
      ],
      "metadata": {
        "colab": {
          "base_uri": "https://localhost:8080/"
        },
        "id": "4sVBj2qEMM9e",
        "outputId": "f189363d-5bf6-4e37-9c9a-a7e45528846f"
      },
      "execution_count": null,
      "outputs": [
        {
          "output_type": "execute_result",
          "data": {
            "text/plain": [
              "product_id\n",
              "P479841    1610\n",
              "P469538    1402\n",
              "P476729    1402\n",
              "P505346    1390\n",
              "P455236    1370\n",
              "           ... \n",
              "P459127       7\n",
              "P459130       3\n",
              "P503872       2\n",
              "P94812        2\n",
              "P7365         1\n",
              "Name: count, Length: 570, dtype: int64"
            ]
          },
          "metadata": {},
          "execution_count": 57
        }
      ]
    },
    {
      "cell_type": "code",
      "source": [
        "mf_df5['product_name'].nunique()"
      ],
      "metadata": {
        "colab": {
          "base_uri": "https://localhost:8080/"
        },
        "id": "qt_nPSpcMNAG",
        "outputId": "094a43bf-dead-498f-9b49-2d7030c715f4"
      },
      "execution_count": null,
      "outputs": [
        {
          "output_type": "execute_result",
          "data": {
            "text/plain": [
              "564"
            ]
          },
          "metadata": {},
          "execution_count": 53
        }
      ]
    },
    {
      "cell_type": "code",
      "source": [
        "import os\n",
        "\n",
        "#To ensure the directory exists\n",
        "os.makedirs('/content/drive/MyDrive/Skincare Recommendation Dataset 2/Cleaned_Products_And_Reviews_Dataset', exist_ok=True)\n",
        "\n",
        "# Path to save the CSV\n",
        "csv_path = '/content/drive/MyDrive/Skincare Recommendation Dataset 2/Cleaned_Products_And_Reviews_Dataset/cleaned_products_and_reviews_dataset.csv'\n",
        "\n",
        "# Save the DataFrame to CSV\n",
        "mf_df5.to_csv(csv_path, index=False)  # Set index=False to avoid saving the index as an additional column\n",
        "\n",
        "print(f\"CSV saved successfully at {csv_path}\")\n"
      ],
      "metadata": {
        "colab": {
          "base_uri": "https://localhost:8080/"
        },
        "id": "gcb_Of0unbGz",
        "outputId": "9f842173-6ad4-4a21-fce2-e36f18e80b4c"
      },
      "execution_count": null,
      "outputs": [
        {
          "output_type": "stream",
          "name": "stdout",
          "text": [
            "CSV saved successfully at /content/drive/MyDrive/Skincare Recommendation Dataset 2/Cleaned_Products_And_Reviews_Dataset/cleaned_products_and_reviews_dataset.csv\n"
          ]
        }
      ]
    },
    {
      "cell_type": "code",
      "source": [
        "pip install scikit-surprise"
      ],
      "metadata": {
        "colab": {
          "base_uri": "https://localhost:8080/"
        },
        "id": "E5nTb3VJO4gK",
        "outputId": "9fa25c53-de69-475f-a2a9-9e3419325389"
      },
      "execution_count": null,
      "outputs": [
        {
          "output_type": "stream",
          "name": "stdout",
          "text": [
            "Requirement already satisfied: scikit-surprise in /usr/local/lib/python3.10/dist-packages (1.1.3)\n",
            "Requirement already satisfied: joblib>=1.0.0 in /usr/local/lib/python3.10/dist-packages (from scikit-surprise) (1.4.2)\n",
            "Requirement already satisfied: numpy>=1.17.3 in /usr/local/lib/python3.10/dist-packages (from scikit-surprise) (1.25.2)\n",
            "Requirement already satisfied: scipy>=1.3.2 in /usr/local/lib/python3.10/dist-packages (from scikit-surprise) (1.11.4)\n"
          ]
        }
      ]
    },
    {
      "cell_type": "code",
      "source": [
        "import pandas as pd\n",
        "from surprise import Dataset, Reader\n",
        "from surprise import SVD\n",
        "from surprise.model_selection import train_test_split\n",
        "from surprise import accuracy\n",
        "\n",
        "# Load data\n",
        "reader = Reader(rating_scale=(1, 5))\n",
        "data = Dataset.load_from_df(collab_filtering_df[['author_id', 'product_id', 'rating_reviews']], reader)\n",
        "\n",
        "# Split data into training and test set\n",
        "trainset, testset = train_test_split(data, test_size=0.25)\n",
        "\n",
        "# Train the SVD algorithm\n",
        "algo = SVD()\n",
        "algo.fit(trainset)\n"
      ],
      "metadata": {
        "colab": {
          "base_uri": "https://localhost:8080/"
        },
        "id": "6tSIJmjmMNGd",
        "outputId": "80d48450-31c6-4808-edaa-6c0d5039a819"
      },
      "execution_count": null,
      "outputs": [
        {
          "output_type": "execute_result",
          "data": {
            "text/plain": [
              "<surprise.prediction_algorithms.matrix_factorization.SVD at 0x7afbcd0afc10>"
            ]
          },
          "metadata": {},
          "execution_count": 58
        }
      ]
    },
    {
      "cell_type": "code",
      "source": [
        "# Make predictions on the test set\n",
        "predictions = algo.test(testset)\n",
        "v\n",
        "# Compute and print Root Mean Squared Error\n",
        "rmse = accuracy.rmse(predictions)"
      ],
      "metadata": {
        "colab": {
          "base_uri": "https://localhost:8080/"
        },
        "id": "ZtkJMO_wMNMc",
        "outputId": "18a59b73-f345-4832-9b7b-aefafc2059bc"
      },
      "execution_count": null,
      "outputs": [
        {
          "output_type": "stream",
          "name": "stdout",
          "text": [
            "RMSE: 0.7252\n"
          ]
        }
      ]
    },
    {
      "cell_type": "code",
      "source": [
        "import pandas as pd\n",
        "\n",
        "# Function to predict ratings for all products for a specific user and return a DataFrame\n",
        "def predict_all_ratings(user_id, product_pool, algo):\n",
        "    # Predict ratings for all products in the product pool for the given user\n",
        "    predictions = [algo.predict(user_id, prod) for prod in product_pool]\n",
        "\n",
        "    # Create a DataFrame from the predictions\n",
        "    predictions_df = pd.DataFrame([(pred.uid, pred.iid, pred.est) for pred in predictions],\n",
        "                                  columns=['User ID', 'Product ID', 'Estimated Rating'])\n",
        "\n",
        "    # Join with the product names for more readable output\n",
        "    product_names = mf_df5[['product_id', 'product_name']].drop_duplicates().set_index('product_id')\n",
        "    predictions_df = predictions_df.set_index('Product ID').join(product_names, how='left').reset_index()\n",
        "    predictions_df.rename(columns={'index': 'Product ID', 'product_name': 'Product Name'}, inplace=True)\n",
        "\n",
        "    return predictions_df\n",
        "\n",
        "product_pool = collab_filtering_df['product_id'].unique()\n",
        "\n",
        "# Predict ratings for all products for a specific user\n",
        "user_id = '1238130325'  # A random user id\n",
        "all_ratings_df = predict_all_ratings(user_id, product_pool, algo)"
      ],
      "metadata": {
        "id": "AulHy09zRQsw"
      },
      "execution_count": null,
      "outputs": []
    },
    {
      "cell_type": "code",
      "source": [
        "all_ratings_df"
      ],
      "metadata": {
        "colab": {
          "base_uri": "https://localhost:8080/",
          "height": 424
        },
        "id": "BiHbjnkaUJRP",
        "outputId": "477c55ca-6842-4745-8c10-b0f528d21174"
      },
      "execution_count": null,
      "outputs": [
        {
          "output_type": "execute_result",
          "data": {
            "text/plain": [
              "    Product ID     User ID  Estimated Rating  \\\n",
              "0      P420652  1238130325          4.590868   \n",
              "1        P7880  1238130325          4.691383   \n",
              "2      P218700  1238130325          4.859852   \n",
              "3      P248407  1238130325          5.000000   \n",
              "4      P269122  1238130325          4.919732   \n",
              "..         ...         ...               ...   \n",
              "565    P442754  1238130325          4.493114   \n",
              "566    P429953  1238130325          4.319110   \n",
              "567    P471101  1238130325          5.000000   \n",
              "568    P297531  1238130325          4.666268   \n",
              "569    P459130  1238130325          4.273720   \n",
              "\n",
              "                                          Product Name  \n",
              "0    lip sleeping mask intense hydration with vitam...  \n",
              "1                   soy hydrating gentle face cleanser  \n",
              "2                           100 percent pure argan oil  \n",
              "3                 ultra repair cream intense hydration  \n",
              "4            alpha beta extra strength daily peel pads  \n",
              "..                                                 ...  \n",
              "565                ascorbic acid 8% + alpha arbutin 2%  \n",
              "566                 glow stick sunscreen spf 50 pa++++  \n",
              "567  resurface+ aha/bha niacinamide exfoliating pad...  \n",
              "568      eye doctor moisture care for skin around eyes  \n",
              "569                                   hyaluronic serum  \n",
              "\n",
              "[570 rows x 4 columns]"
            ],
            "text/html": [
              "\n",
              "  <div id=\"df-fa2ece20-49f9-43ae-a85d-cde534f3d861\" class=\"colab-df-container\">\n",
              "    <div>\n",
              "<style scoped>\n",
              "    .dataframe tbody tr th:only-of-type {\n",
              "        vertical-align: middle;\n",
              "    }\n",
              "\n",
              "    .dataframe tbody tr th {\n",
              "        vertical-align: top;\n",
              "    }\n",
              "\n",
              "    .dataframe thead th {\n",
              "        text-align: right;\n",
              "    }\n",
              "</style>\n",
              "<table border=\"1\" class=\"dataframe\">\n",
              "  <thead>\n",
              "    <tr style=\"text-align: right;\">\n",
              "      <th></th>\n",
              "      <th>Product ID</th>\n",
              "      <th>User ID</th>\n",
              "      <th>Estimated Rating</th>\n",
              "      <th>Product Name</th>\n",
              "    </tr>\n",
              "  </thead>\n",
              "  <tbody>\n",
              "    <tr>\n",
              "      <th>0</th>\n",
              "      <td>P420652</td>\n",
              "      <td>1238130325</td>\n",
              "      <td>4.590868</td>\n",
              "      <td>lip sleeping mask intense hydration with vitam...</td>\n",
              "    </tr>\n",
              "    <tr>\n",
              "      <th>1</th>\n",
              "      <td>P7880</td>\n",
              "      <td>1238130325</td>\n",
              "      <td>4.691383</td>\n",
              "      <td>soy hydrating gentle face cleanser</td>\n",
              "    </tr>\n",
              "    <tr>\n",
              "      <th>2</th>\n",
              "      <td>P218700</td>\n",
              "      <td>1238130325</td>\n",
              "      <td>4.859852</td>\n",
              "      <td>100 percent pure argan oil</td>\n",
              "    </tr>\n",
              "    <tr>\n",
              "      <th>3</th>\n",
              "      <td>P248407</td>\n",
              "      <td>1238130325</td>\n",
              "      <td>5.000000</td>\n",
              "      <td>ultra repair cream intense hydration</td>\n",
              "    </tr>\n",
              "    <tr>\n",
              "      <th>4</th>\n",
              "      <td>P269122</td>\n",
              "      <td>1238130325</td>\n",
              "      <td>4.919732</td>\n",
              "      <td>alpha beta extra strength daily peel pads</td>\n",
              "    </tr>\n",
              "    <tr>\n",
              "      <th>...</th>\n",
              "      <td>...</td>\n",
              "      <td>...</td>\n",
              "      <td>...</td>\n",
              "      <td>...</td>\n",
              "    </tr>\n",
              "    <tr>\n",
              "      <th>565</th>\n",
              "      <td>P442754</td>\n",
              "      <td>1238130325</td>\n",
              "      <td>4.493114</td>\n",
              "      <td>ascorbic acid 8% + alpha arbutin 2%</td>\n",
              "    </tr>\n",
              "    <tr>\n",
              "      <th>566</th>\n",
              "      <td>P429953</td>\n",
              "      <td>1238130325</td>\n",
              "      <td>4.319110</td>\n",
              "      <td>glow stick sunscreen spf 50 pa++++</td>\n",
              "    </tr>\n",
              "    <tr>\n",
              "      <th>567</th>\n",
              "      <td>P471101</td>\n",
              "      <td>1238130325</td>\n",
              "      <td>5.000000</td>\n",
              "      <td>resurface+ aha/bha niacinamide exfoliating pad...</td>\n",
              "    </tr>\n",
              "    <tr>\n",
              "      <th>568</th>\n",
              "      <td>P297531</td>\n",
              "      <td>1238130325</td>\n",
              "      <td>4.666268</td>\n",
              "      <td>eye doctor moisture care for skin around eyes</td>\n",
              "    </tr>\n",
              "    <tr>\n",
              "      <th>569</th>\n",
              "      <td>P459130</td>\n",
              "      <td>1238130325</td>\n",
              "      <td>4.273720</td>\n",
              "      <td>hyaluronic serum</td>\n",
              "    </tr>\n",
              "  </tbody>\n",
              "</table>\n",
              "<p>570 rows × 4 columns</p>\n",
              "</div>\n",
              "    <div class=\"colab-df-buttons\">\n",
              "\n",
              "  <div class=\"colab-df-container\">\n",
              "    <button class=\"colab-df-convert\" onclick=\"convertToInteractive('df-fa2ece20-49f9-43ae-a85d-cde534f3d861')\"\n",
              "            title=\"Convert this dataframe to an interactive table.\"\n",
              "            style=\"display:none;\">\n",
              "\n",
              "  <svg xmlns=\"http://www.w3.org/2000/svg\" height=\"24px\" viewBox=\"0 -960 960 960\">\n",
              "    <path d=\"M120-120v-720h720v720H120Zm60-500h600v-160H180v160Zm220 220h160v-160H400v160Zm0 220h160v-160H400v160ZM180-400h160v-160H180v160Zm440 0h160v-160H620v160ZM180-180h160v-160H180v160Zm440 0h160v-160H620v160Z\"/>\n",
              "  </svg>\n",
              "    </button>\n",
              "\n",
              "  <style>\n",
              "    .colab-df-container {\n",
              "      display:flex;\n",
              "      gap: 12px;\n",
              "    }\n",
              "\n",
              "    .colab-df-convert {\n",
              "      background-color: #E8F0FE;\n",
              "      border: none;\n",
              "      border-radius: 50%;\n",
              "      cursor: pointer;\n",
              "      display: none;\n",
              "      fill: #1967D2;\n",
              "      height: 32px;\n",
              "      padding: 0 0 0 0;\n",
              "      width: 32px;\n",
              "    }\n",
              "\n",
              "    .colab-df-convert:hover {\n",
              "      background-color: #E2EBFA;\n",
              "      box-shadow: 0px 1px 2px rgba(60, 64, 67, 0.3), 0px 1px 3px 1px rgba(60, 64, 67, 0.15);\n",
              "      fill: #174EA6;\n",
              "    }\n",
              "\n",
              "    .colab-df-buttons div {\n",
              "      margin-bottom: 4px;\n",
              "    }\n",
              "\n",
              "    [theme=dark] .colab-df-convert {\n",
              "      background-color: #3B4455;\n",
              "      fill: #D2E3FC;\n",
              "    }\n",
              "\n",
              "    [theme=dark] .colab-df-convert:hover {\n",
              "      background-color: #434B5C;\n",
              "      box-shadow: 0px 1px 3px 1px rgba(0, 0, 0, 0.15);\n",
              "      filter: drop-shadow(0px 1px 2px rgba(0, 0, 0, 0.3));\n",
              "      fill: #FFFFFF;\n",
              "    }\n",
              "  </style>\n",
              "\n",
              "    <script>\n",
              "      const buttonEl =\n",
              "        document.querySelector('#df-fa2ece20-49f9-43ae-a85d-cde534f3d861 button.colab-df-convert');\n",
              "      buttonEl.style.display =\n",
              "        google.colab.kernel.accessAllowed ? 'block' : 'none';\n",
              "\n",
              "      async function convertToInteractive(key) {\n",
              "        const element = document.querySelector('#df-fa2ece20-49f9-43ae-a85d-cde534f3d861');\n",
              "        const dataTable =\n",
              "          await google.colab.kernel.invokeFunction('convertToInteractive',\n",
              "                                                    [key], {});\n",
              "        if (!dataTable) return;\n",
              "\n",
              "        const docLinkHtml = 'Like what you see? Visit the ' +\n",
              "          '<a target=\"_blank\" href=https://colab.research.google.com/notebooks/data_table.ipynb>data table notebook</a>'\n",
              "          + ' to learn more about interactive tables.';\n",
              "        element.innerHTML = '';\n",
              "        dataTable['output_type'] = 'display_data';\n",
              "        await google.colab.output.renderOutput(dataTable, element);\n",
              "        const docLink = document.createElement('div');\n",
              "        docLink.innerHTML = docLinkHtml;\n",
              "        element.appendChild(docLink);\n",
              "      }\n",
              "    </script>\n",
              "  </div>\n",
              "\n",
              "\n",
              "<div id=\"df-32da4a46-98d4-4e61-893e-fc2ee8641614\">\n",
              "  <button class=\"colab-df-quickchart\" onclick=\"quickchart('df-32da4a46-98d4-4e61-893e-fc2ee8641614')\"\n",
              "            title=\"Suggest charts\"\n",
              "            style=\"display:none;\">\n",
              "\n",
              "<svg xmlns=\"http://www.w3.org/2000/svg\" height=\"24px\"viewBox=\"0 0 24 24\"\n",
              "     width=\"24px\">\n",
              "    <g>\n",
              "        <path d=\"M19 3H5c-1.1 0-2 .9-2 2v14c0 1.1.9 2 2 2h14c1.1 0 2-.9 2-2V5c0-1.1-.9-2-2-2zM9 17H7v-7h2v7zm4 0h-2V7h2v10zm4 0h-2v-4h2v4z\"/>\n",
              "    </g>\n",
              "</svg>\n",
              "  </button>\n",
              "\n",
              "<style>\n",
              "  .colab-df-quickchart {\n",
              "      --bg-color: #E8F0FE;\n",
              "      --fill-color: #1967D2;\n",
              "      --hover-bg-color: #E2EBFA;\n",
              "      --hover-fill-color: #174EA6;\n",
              "      --disabled-fill-color: #AAA;\n",
              "      --disabled-bg-color: #DDD;\n",
              "  }\n",
              "\n",
              "  [theme=dark] .colab-df-quickchart {\n",
              "      --bg-color: #3B4455;\n",
              "      --fill-color: #D2E3FC;\n",
              "      --hover-bg-color: #434B5C;\n",
              "      --hover-fill-color: #FFFFFF;\n",
              "      --disabled-bg-color: #3B4455;\n",
              "      --disabled-fill-color: #666;\n",
              "  }\n",
              "\n",
              "  .colab-df-quickchart {\n",
              "    background-color: var(--bg-color);\n",
              "    border: none;\n",
              "    border-radius: 50%;\n",
              "    cursor: pointer;\n",
              "    display: none;\n",
              "    fill: var(--fill-color);\n",
              "    height: 32px;\n",
              "    padding: 0;\n",
              "    width: 32px;\n",
              "  }\n",
              "\n",
              "  .colab-df-quickchart:hover {\n",
              "    background-color: var(--hover-bg-color);\n",
              "    box-shadow: 0 1px 2px rgba(60, 64, 67, 0.3), 0 1px 3px 1px rgba(60, 64, 67, 0.15);\n",
              "    fill: var(--button-hover-fill-color);\n",
              "  }\n",
              "\n",
              "  .colab-df-quickchart-complete:disabled,\n",
              "  .colab-df-quickchart-complete:disabled:hover {\n",
              "    background-color: var(--disabled-bg-color);\n",
              "    fill: var(--disabled-fill-color);\n",
              "    box-shadow: none;\n",
              "  }\n",
              "\n",
              "  .colab-df-spinner {\n",
              "    border: 2px solid var(--fill-color);\n",
              "    border-color: transparent;\n",
              "    border-bottom-color: var(--fill-color);\n",
              "    animation:\n",
              "      spin 1s steps(1) infinite;\n",
              "  }\n",
              "\n",
              "  @keyframes spin {\n",
              "    0% {\n",
              "      border-color: transparent;\n",
              "      border-bottom-color: var(--fill-color);\n",
              "      border-left-color: var(--fill-color);\n",
              "    }\n",
              "    20% {\n",
              "      border-color: transparent;\n",
              "      border-left-color: var(--fill-color);\n",
              "      border-top-color: var(--fill-color);\n",
              "    }\n",
              "    30% {\n",
              "      border-color: transparent;\n",
              "      border-left-color: var(--fill-color);\n",
              "      border-top-color: var(--fill-color);\n",
              "      border-right-color: var(--fill-color);\n",
              "    }\n",
              "    40% {\n",
              "      border-color: transparent;\n",
              "      border-right-color: var(--fill-color);\n",
              "      border-top-color: var(--fill-color);\n",
              "    }\n",
              "    60% {\n",
              "      border-color: transparent;\n",
              "      border-right-color: var(--fill-color);\n",
              "    }\n",
              "    80% {\n",
              "      border-color: transparent;\n",
              "      border-right-color: var(--fill-color);\n",
              "      border-bottom-color: var(--fill-color);\n",
              "    }\n",
              "    90% {\n",
              "      border-color: transparent;\n",
              "      border-bottom-color: var(--fill-color);\n",
              "    }\n",
              "  }\n",
              "</style>\n",
              "\n",
              "  <script>\n",
              "    async function quickchart(key) {\n",
              "      const quickchartButtonEl =\n",
              "        document.querySelector('#' + key + ' button');\n",
              "      quickchartButtonEl.disabled = true;  // To prevent multiple clicks.\n",
              "      quickchartButtonEl.classList.add('colab-df-spinner');\n",
              "      try {\n",
              "        const charts = await google.colab.kernel.invokeFunction(\n",
              "            'suggestCharts', [key], {});\n",
              "      } catch (error) {\n",
              "        console.error('Error during call to suggestCharts:', error);\n",
              "      }\n",
              "      quickchartButtonEl.classList.remove('colab-df-spinner');\n",
              "      quickchartButtonEl.classList.add('colab-df-quickchart-complete');\n",
              "    }\n",
              "    (() => {\n",
              "      let quickchartButtonEl =\n",
              "        document.querySelector('#df-32da4a46-98d4-4e61-893e-fc2ee8641614 button');\n",
              "      quickchartButtonEl.style.display =\n",
              "        google.colab.kernel.accessAllowed ? 'block' : 'none';\n",
              "    })();\n",
              "  </script>\n",
              "</div>\n",
              "    </div>\n",
              "  </div>\n"
            ],
            "application/vnd.google.colaboratory.intrinsic+json": {
              "type": "dataframe",
              "variable_name": "all_ratings_df",
              "summary": "{\n  \"name\": \"all_ratings_df\",\n  \"rows\": 570,\n  \"fields\": [\n    {\n      \"column\": \"Product ID\",\n      \"properties\": {\n        \"dtype\": \"string\",\n        \"num_unique_values\": 570,\n        \"samples\": [\n          \"P442564\",\n          \"P415777\",\n          \"P415237\"\n        ],\n        \"semantic_type\": \"\",\n        \"description\": \"\"\n      }\n    },\n    {\n      \"column\": \"User ID\",\n      \"properties\": {\n        \"dtype\": \"category\",\n        \"num_unique_values\": 1,\n        \"samples\": [\n          \"1238130325\"\n        ],\n        \"semantic_type\": \"\",\n        \"description\": \"\"\n      }\n    },\n    {\n      \"column\": \"Estimated Rating\",\n      \"properties\": {\n        \"dtype\": \"number\",\n        \"std\": 0.23209528452101283,\n        \"min\": 3.5948819227247446,\n        \"max\": 5.0,\n        \"num_unique_values\": 330,\n        \"samples\": [\n          4.851490420135573\n        ],\n        \"semantic_type\": \"\",\n        \"description\": \"\"\n      }\n    },\n    {\n      \"column\": \"Product Name\",\n      \"properties\": {\n        \"dtype\": \"string\",\n        \"num_unique_values\": 564,\n        \"samples\": [\n          \"one-step gentle exfoliating cleanser with orange extract\"\n        ],\n        \"semantic_type\": \"\",\n        \"description\": \"\"\n      }\n    }\n  ]\n}"
            }
          },
          "metadata": {},
          "execution_count": 61
        }
      ]
    },
    {
      "cell_type": "code",
      "source": [
        "all_ratings_df.sort_values(by='Estimated Rating', ascending=False).head(20)"
      ],
      "metadata": {
        "colab": {
          "base_uri": "https://localhost:8080/",
          "height": 677
        },
        "id": "MfIFW9ARUJbY",
        "outputId": "56c6f38e-0a53-4181-be66-835bc02435a0"
      },
      "execution_count": null,
      "outputs": [
        {
          "output_type": "execute_result",
          "data": {
            "text/plain": [
              "    Product ID     User ID  Estimated Rating  \\\n",
              "285    P482535  1238130325               5.0   \n",
              "396    P501254  1238130325               5.0   \n",
              "391    P475543  1238130325               5.0   \n",
              "203    P482739  1238130325               5.0   \n",
              "202    P454018  1238130325               5.0   \n",
              "201    P415747  1238130325               5.0   \n",
              "393    P467615  1238130325               5.0   \n",
              "198    P474938  1238130325               5.0   \n",
              "196    P411539  1238130325               5.0   \n",
              "536    P483076  1238130325               5.0   \n",
              "397    P387261  1238130325               5.0   \n",
              "398    P469490  1238130325               5.0   \n",
              "538    P422002  1238130325               5.0   \n",
              "192    P377533  1238130325               5.0   \n",
              "191    P503936  1238130325               5.0   \n",
              "190    P466155  1238130325               5.0   \n",
              "207    P463036  1238130325               5.0   \n",
              "509    P455241  1238130325               5.0   \n",
              "400    P423136  1238130325               5.0   \n",
              "219    P434545  1238130325               5.0   \n",
              "\n",
              "                                          Product Name  \n",
              "285   strawberry smooth bha + aha salicylic acid serum  \n",
              "396                watermelon glow aha night treatment  \n",
              "391          guava vitamin c dark spot treatment serum  \n",
              "203  urban environment oil-free sunscreen broad-spe...  \n",
              "202         the serum stick: treatment & touch up balm  \n",
              "201                  brazilian kiss cupuaçu lip butter  \n",
              "393       cicapair tiger grass sleepair intensive mask  \n",
              "198  vinopure natural salicylic acid pore minimizin...  \n",
              "196                         cicapair tiger grass cream  \n",
              "536  c.e.o. afterglow brightening vitamin c moistur...  \n",
              "397    pumpkin enzyme mask enzymatic dermal resurfacer  \n",
              "398                                 lip treatment balm  \n",
              "538  rare earth deep pore minimizing cleansing clay...  \n",
              "192               alpha beta universal daily peel pads  \n",
              "191  black tea anti-aging moisturizer with retinol-...  \n",
              "190  the dewy serum resurfacing and plumping treatment  \n",
              "207    honey halo ultra-hydrating ceramide moisturizer  \n",
              "509            noni night aha pore & resurfacing serum  \n",
              "400                              special cleansing gel  \n",
              "219                   glow cycle retin-alt power serum  "
            ],
            "text/html": [
              "\n",
              "  <div id=\"df-59ad3202-7dcd-4abe-95c1-5264995c367c\" class=\"colab-df-container\">\n",
              "    <div>\n",
              "<style scoped>\n",
              "    .dataframe tbody tr th:only-of-type {\n",
              "        vertical-align: middle;\n",
              "    }\n",
              "\n",
              "    .dataframe tbody tr th {\n",
              "        vertical-align: top;\n",
              "    }\n",
              "\n",
              "    .dataframe thead th {\n",
              "        text-align: right;\n",
              "    }\n",
              "</style>\n",
              "<table border=\"1\" class=\"dataframe\">\n",
              "  <thead>\n",
              "    <tr style=\"text-align: right;\">\n",
              "      <th></th>\n",
              "      <th>Product ID</th>\n",
              "      <th>User ID</th>\n",
              "      <th>Estimated Rating</th>\n",
              "      <th>Product Name</th>\n",
              "    </tr>\n",
              "  </thead>\n",
              "  <tbody>\n",
              "    <tr>\n",
              "      <th>285</th>\n",
              "      <td>P482535</td>\n",
              "      <td>1238130325</td>\n",
              "      <td>5.0</td>\n",
              "      <td>strawberry smooth bha + aha salicylic acid serum</td>\n",
              "    </tr>\n",
              "    <tr>\n",
              "      <th>396</th>\n",
              "      <td>P501254</td>\n",
              "      <td>1238130325</td>\n",
              "      <td>5.0</td>\n",
              "      <td>watermelon glow aha night treatment</td>\n",
              "    </tr>\n",
              "    <tr>\n",
              "      <th>391</th>\n",
              "      <td>P475543</td>\n",
              "      <td>1238130325</td>\n",
              "      <td>5.0</td>\n",
              "      <td>guava vitamin c dark spot treatment serum</td>\n",
              "    </tr>\n",
              "    <tr>\n",
              "      <th>203</th>\n",
              "      <td>P482739</td>\n",
              "      <td>1238130325</td>\n",
              "      <td>5.0</td>\n",
              "      <td>urban environment oil-free sunscreen broad-spe...</td>\n",
              "    </tr>\n",
              "    <tr>\n",
              "      <th>202</th>\n",
              "      <td>P454018</td>\n",
              "      <td>1238130325</td>\n",
              "      <td>5.0</td>\n",
              "      <td>the serum stick: treatment &amp; touch up balm</td>\n",
              "    </tr>\n",
              "    <tr>\n",
              "      <th>201</th>\n",
              "      <td>P415747</td>\n",
              "      <td>1238130325</td>\n",
              "      <td>5.0</td>\n",
              "      <td>brazilian kiss cupuaçu lip butter</td>\n",
              "    </tr>\n",
              "    <tr>\n",
              "      <th>393</th>\n",
              "      <td>P467615</td>\n",
              "      <td>1238130325</td>\n",
              "      <td>5.0</td>\n",
              "      <td>cicapair tiger grass sleepair intensive mask</td>\n",
              "    </tr>\n",
              "    <tr>\n",
              "      <th>198</th>\n",
              "      <td>P474938</td>\n",
              "      <td>1238130325</td>\n",
              "      <td>5.0</td>\n",
              "      <td>vinopure natural salicylic acid pore minimizin...</td>\n",
              "    </tr>\n",
              "    <tr>\n",
              "      <th>196</th>\n",
              "      <td>P411539</td>\n",
              "      <td>1238130325</td>\n",
              "      <td>5.0</td>\n",
              "      <td>cicapair tiger grass cream</td>\n",
              "    </tr>\n",
              "    <tr>\n",
              "      <th>536</th>\n",
              "      <td>P483076</td>\n",
              "      <td>1238130325</td>\n",
              "      <td>5.0</td>\n",
              "      <td>c.e.o. afterglow brightening vitamin c moistur...</td>\n",
              "    </tr>\n",
              "    <tr>\n",
              "      <th>397</th>\n",
              "      <td>P387261</td>\n",
              "      <td>1238130325</td>\n",
              "      <td>5.0</td>\n",
              "      <td>pumpkin enzyme mask enzymatic dermal resurfacer</td>\n",
              "    </tr>\n",
              "    <tr>\n",
              "      <th>398</th>\n",
              "      <td>P469490</td>\n",
              "      <td>1238130325</td>\n",
              "      <td>5.0</td>\n",
              "      <td>lip treatment balm</td>\n",
              "    </tr>\n",
              "    <tr>\n",
              "      <th>538</th>\n",
              "      <td>P422002</td>\n",
              "      <td>1238130325</td>\n",
              "      <td>5.0</td>\n",
              "      <td>rare earth deep pore minimizing cleansing clay...</td>\n",
              "    </tr>\n",
              "    <tr>\n",
              "      <th>192</th>\n",
              "      <td>P377533</td>\n",
              "      <td>1238130325</td>\n",
              "      <td>5.0</td>\n",
              "      <td>alpha beta universal daily peel pads</td>\n",
              "    </tr>\n",
              "    <tr>\n",
              "      <th>191</th>\n",
              "      <td>P503936</td>\n",
              "      <td>1238130325</td>\n",
              "      <td>5.0</td>\n",
              "      <td>black tea anti-aging moisturizer with retinol-...</td>\n",
              "    </tr>\n",
              "    <tr>\n",
              "      <th>190</th>\n",
              "      <td>P466155</td>\n",
              "      <td>1238130325</td>\n",
              "      <td>5.0</td>\n",
              "      <td>the dewy serum resurfacing and plumping treatment</td>\n",
              "    </tr>\n",
              "    <tr>\n",
              "      <th>207</th>\n",
              "      <td>P463036</td>\n",
              "      <td>1238130325</td>\n",
              "      <td>5.0</td>\n",
              "      <td>honey halo ultra-hydrating ceramide moisturizer</td>\n",
              "    </tr>\n",
              "    <tr>\n",
              "      <th>509</th>\n",
              "      <td>P455241</td>\n",
              "      <td>1238130325</td>\n",
              "      <td>5.0</td>\n",
              "      <td>noni night aha pore &amp; resurfacing serum</td>\n",
              "    </tr>\n",
              "    <tr>\n",
              "      <th>400</th>\n",
              "      <td>P423136</td>\n",
              "      <td>1238130325</td>\n",
              "      <td>5.0</td>\n",
              "      <td>special cleansing gel</td>\n",
              "    </tr>\n",
              "    <tr>\n",
              "      <th>219</th>\n",
              "      <td>P434545</td>\n",
              "      <td>1238130325</td>\n",
              "      <td>5.0</td>\n",
              "      <td>glow cycle retin-alt power serum</td>\n",
              "    </tr>\n",
              "  </tbody>\n",
              "</table>\n",
              "</div>\n",
              "    <div class=\"colab-df-buttons\">\n",
              "\n",
              "  <div class=\"colab-df-container\">\n",
              "    <button class=\"colab-df-convert\" onclick=\"convertToInteractive('df-59ad3202-7dcd-4abe-95c1-5264995c367c')\"\n",
              "            title=\"Convert this dataframe to an interactive table.\"\n",
              "            style=\"display:none;\">\n",
              "\n",
              "  <svg xmlns=\"http://www.w3.org/2000/svg\" height=\"24px\" viewBox=\"0 -960 960 960\">\n",
              "    <path d=\"M120-120v-720h720v720H120Zm60-500h600v-160H180v160Zm220 220h160v-160H400v160Zm0 220h160v-160H400v160ZM180-400h160v-160H180v160Zm440 0h160v-160H620v160ZM180-180h160v-160H180v160Zm440 0h160v-160H620v160Z\"/>\n",
              "  </svg>\n",
              "    </button>\n",
              "\n",
              "  <style>\n",
              "    .colab-df-container {\n",
              "      display:flex;\n",
              "      gap: 12px;\n",
              "    }\n",
              "\n",
              "    .colab-df-convert {\n",
              "      background-color: #E8F0FE;\n",
              "      border: none;\n",
              "      border-radius: 50%;\n",
              "      cursor: pointer;\n",
              "      display: none;\n",
              "      fill: #1967D2;\n",
              "      height: 32px;\n",
              "      padding: 0 0 0 0;\n",
              "      width: 32px;\n",
              "    }\n",
              "\n",
              "    .colab-df-convert:hover {\n",
              "      background-color: #E2EBFA;\n",
              "      box-shadow: 0px 1px 2px rgba(60, 64, 67, 0.3), 0px 1px 3px 1px rgba(60, 64, 67, 0.15);\n",
              "      fill: #174EA6;\n",
              "    }\n",
              "\n",
              "    .colab-df-buttons div {\n",
              "      margin-bottom: 4px;\n",
              "    }\n",
              "\n",
              "    [theme=dark] .colab-df-convert {\n",
              "      background-color: #3B4455;\n",
              "      fill: #D2E3FC;\n",
              "    }\n",
              "\n",
              "    [theme=dark] .colab-df-convert:hover {\n",
              "      background-color: #434B5C;\n",
              "      box-shadow: 0px 1px 3px 1px rgba(0, 0, 0, 0.15);\n",
              "      filter: drop-shadow(0px 1px 2px rgba(0, 0, 0, 0.3));\n",
              "      fill: #FFFFFF;\n",
              "    }\n",
              "  </style>\n",
              "\n",
              "    <script>\n",
              "      const buttonEl =\n",
              "        document.querySelector('#df-59ad3202-7dcd-4abe-95c1-5264995c367c button.colab-df-convert');\n",
              "      buttonEl.style.display =\n",
              "        google.colab.kernel.accessAllowed ? 'block' : 'none';\n",
              "\n",
              "      async function convertToInteractive(key) {\n",
              "        const element = document.querySelector('#df-59ad3202-7dcd-4abe-95c1-5264995c367c');\n",
              "        const dataTable =\n",
              "          await google.colab.kernel.invokeFunction('convertToInteractive',\n",
              "                                                    [key], {});\n",
              "        if (!dataTable) return;\n",
              "\n",
              "        const docLinkHtml = 'Like what you see? Visit the ' +\n",
              "          '<a target=\"_blank\" href=https://colab.research.google.com/notebooks/data_table.ipynb>data table notebook</a>'\n",
              "          + ' to learn more about interactive tables.';\n",
              "        element.innerHTML = '';\n",
              "        dataTable['output_type'] = 'display_data';\n",
              "        await google.colab.output.renderOutput(dataTable, element);\n",
              "        const docLink = document.createElement('div');\n",
              "        docLink.innerHTML = docLinkHtml;\n",
              "        element.appendChild(docLink);\n",
              "      }\n",
              "    </script>\n",
              "  </div>\n",
              "\n",
              "\n",
              "<div id=\"df-bc889941-b217-4ee1-801e-53b8e073cd7b\">\n",
              "  <button class=\"colab-df-quickchart\" onclick=\"quickchart('df-bc889941-b217-4ee1-801e-53b8e073cd7b')\"\n",
              "            title=\"Suggest charts\"\n",
              "            style=\"display:none;\">\n",
              "\n",
              "<svg xmlns=\"http://www.w3.org/2000/svg\" height=\"24px\"viewBox=\"0 0 24 24\"\n",
              "     width=\"24px\">\n",
              "    <g>\n",
              "        <path d=\"M19 3H5c-1.1 0-2 .9-2 2v14c0 1.1.9 2 2 2h14c1.1 0 2-.9 2-2V5c0-1.1-.9-2-2-2zM9 17H7v-7h2v7zm4 0h-2V7h2v10zm4 0h-2v-4h2v4z\"/>\n",
              "    </g>\n",
              "</svg>\n",
              "  </button>\n",
              "\n",
              "<style>\n",
              "  .colab-df-quickchart {\n",
              "      --bg-color: #E8F0FE;\n",
              "      --fill-color: #1967D2;\n",
              "      --hover-bg-color: #E2EBFA;\n",
              "      --hover-fill-color: #174EA6;\n",
              "      --disabled-fill-color: #AAA;\n",
              "      --disabled-bg-color: #DDD;\n",
              "  }\n",
              "\n",
              "  [theme=dark] .colab-df-quickchart {\n",
              "      --bg-color: #3B4455;\n",
              "      --fill-color: #D2E3FC;\n",
              "      --hover-bg-color: #434B5C;\n",
              "      --hover-fill-color: #FFFFFF;\n",
              "      --disabled-bg-color: #3B4455;\n",
              "      --disabled-fill-color: #666;\n",
              "  }\n",
              "\n",
              "  .colab-df-quickchart {\n",
              "    background-color: var(--bg-color);\n",
              "    border: none;\n",
              "    border-radius: 50%;\n",
              "    cursor: pointer;\n",
              "    display: none;\n",
              "    fill: var(--fill-color);\n",
              "    height: 32px;\n",
              "    padding: 0;\n",
              "    width: 32px;\n",
              "  }\n",
              "\n",
              "  .colab-df-quickchart:hover {\n",
              "    background-color: var(--hover-bg-color);\n",
              "    box-shadow: 0 1px 2px rgba(60, 64, 67, 0.3), 0 1px 3px 1px rgba(60, 64, 67, 0.15);\n",
              "    fill: var(--button-hover-fill-color);\n",
              "  }\n",
              "\n",
              "  .colab-df-quickchart-complete:disabled,\n",
              "  .colab-df-quickchart-complete:disabled:hover {\n",
              "    background-color: var(--disabled-bg-color);\n",
              "    fill: var(--disabled-fill-color);\n",
              "    box-shadow: none;\n",
              "  }\n",
              "\n",
              "  .colab-df-spinner {\n",
              "    border: 2px solid var(--fill-color);\n",
              "    border-color: transparent;\n",
              "    border-bottom-color: var(--fill-color);\n",
              "    animation:\n",
              "      spin 1s steps(1) infinite;\n",
              "  }\n",
              "\n",
              "  @keyframes spin {\n",
              "    0% {\n",
              "      border-color: transparent;\n",
              "      border-bottom-color: var(--fill-color);\n",
              "      border-left-color: var(--fill-color);\n",
              "    }\n",
              "    20% {\n",
              "      border-color: transparent;\n",
              "      border-left-color: var(--fill-color);\n",
              "      border-top-color: var(--fill-color);\n",
              "    }\n",
              "    30% {\n",
              "      border-color: transparent;\n",
              "      border-left-color: var(--fill-color);\n",
              "      border-top-color: var(--fill-color);\n",
              "      border-right-color: var(--fill-color);\n",
              "    }\n",
              "    40% {\n",
              "      border-color: transparent;\n",
              "      border-right-color: var(--fill-color);\n",
              "      border-top-color: var(--fill-color);\n",
              "    }\n",
              "    60% {\n",
              "      border-color: transparent;\n",
              "      border-right-color: var(--fill-color);\n",
              "    }\n",
              "    80% {\n",
              "      border-color: transparent;\n",
              "      border-right-color: var(--fill-color);\n",
              "      border-bottom-color: var(--fill-color);\n",
              "    }\n",
              "    90% {\n",
              "      border-color: transparent;\n",
              "      border-bottom-color: var(--fill-color);\n",
              "    }\n",
              "  }\n",
              "</style>\n",
              "\n",
              "  <script>\n",
              "    async function quickchart(key) {\n",
              "      const quickchartButtonEl =\n",
              "        document.querySelector('#' + key + ' button');\n",
              "      quickchartButtonEl.disabled = true;  // To prevent multiple clicks.\n",
              "      quickchartButtonEl.classList.add('colab-df-spinner');\n",
              "      try {\n",
              "        const charts = await google.colab.kernel.invokeFunction(\n",
              "            'suggestCharts', [key], {});\n",
              "      } catch (error) {\n",
              "        console.error('Error during call to suggestCharts:', error);\n",
              "      }\n",
              "      quickchartButtonEl.classList.remove('colab-df-spinner');\n",
              "      quickchartButtonEl.classList.add('colab-df-quickchart-complete');\n",
              "    }\n",
              "    (() => {\n",
              "      let quickchartButtonEl =\n",
              "        document.querySelector('#df-bc889941-b217-4ee1-801e-53b8e073cd7b button');\n",
              "      quickchartButtonEl.style.display =\n",
              "        google.colab.kernel.accessAllowed ? 'block' : 'none';\n",
              "    })();\n",
              "  </script>\n",
              "</div>\n",
              "    </div>\n",
              "  </div>\n"
            ],
            "application/vnd.google.colaboratory.intrinsic+json": {
              "type": "dataframe",
              "summary": "{\n  \"name\": \"all_ratings_df\",\n  \"rows\": 20,\n  \"fields\": [\n    {\n      \"column\": \"Product ID\",\n      \"properties\": {\n        \"dtype\": \"string\",\n        \"num_unique_values\": 20,\n        \"samples\": [\n          \"P482535\",\n          \"P455241\",\n          \"P466155\"\n        ],\n        \"semantic_type\": \"\",\n        \"description\": \"\"\n      }\n    },\n    {\n      \"column\": \"User ID\",\n      \"properties\": {\n        \"dtype\": \"category\",\n        \"num_unique_values\": 1,\n        \"samples\": [\n          \"1238130325\"\n        ],\n        \"semantic_type\": \"\",\n        \"description\": \"\"\n      }\n    },\n    {\n      \"column\": \"Estimated Rating\",\n      \"properties\": {\n        \"dtype\": \"number\",\n        \"std\": 0.0,\n        \"min\": 5.0,\n        \"max\": 5.0,\n        \"num_unique_values\": 1,\n        \"samples\": [\n          5.0\n        ],\n        \"semantic_type\": \"\",\n        \"description\": \"\"\n      }\n    },\n    {\n      \"column\": \"Product Name\",\n      \"properties\": {\n        \"dtype\": \"string\",\n        \"num_unique_values\": 20,\n        \"samples\": [\n          \"strawberry smooth bha + aha salicylic acid serum\"\n        ],\n        \"semantic_type\": \"\",\n        \"description\": \"\"\n      }\n    }\n  ]\n}"
            }
          },
          "metadata": {},
          "execution_count": 62
        }
      ]
    },
    {
      "cell_type": "code",
      "source": [],
      "metadata": {
        "id": "OMTOufj8UJhp"
      },
      "execution_count": null,
      "outputs": []
    },
    {
      "cell_type": "code",
      "source": [
        "import pickle\n",
        "\n",
        "# Save the algorithm to a file\n",
        "file_name = '/content/drive/MyDrive/Skincare Recommendation Dataset 2/Cleaned_Products_And_Reviews_Dataset/svd_collab_filter_model.pkl'\n",
        "\n",
        "with open(file_name, 'wb') as f:\n",
        "    pickle.dump(algo, f)\n",
        "\n",
        "print(f\"Model saved successfully at {file_name}\")\n"
      ],
      "metadata": {
        "colab": {
          "base_uri": "https://localhost:8080/"
        },
        "id": "RtYD-6Ceqtra",
        "outputId": "d1c53597-900b-4bb4-b097-fbea95dcfd39"
      },
      "execution_count": null,
      "outputs": [
        {
          "output_type": "stream",
          "name": "stdout",
          "text": [
            "Model saved successfully at /content/drive/MyDrive/Skincare Recommendation Dataset 2/Cleaned_Products_And_Reviews_Dataset/svd_collab_filter_model.pkl\n"
          ]
        }
      ]
    },
    {
      "cell_type": "code",
      "source": [],
      "metadata": {
        "id": "7J6pMghBqtup"
      },
      "execution_count": null,
      "outputs": []
    }
  ]
}